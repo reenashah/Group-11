{
 "metadata": {
  "name": "example"
 },
 "nbformat": 3,
 "nbformat_minor": 0,
 "worksheets": [
  {
   "cells": [
    {
     "cell_type": "markdown",
     "metadata": {},
     "source": [
      "Import basic Python libraries for use in your program: [os.path](http://docs.python.org/2/library/os.path.html) and [ConfigParser](http://docs.python.org/2/library/configparser.html)"
     ]
    },
    {
     "cell_type": "code",
     "collapsed": false,
     "input": [
      "import os.path\n",
      "import ConfigParser"
     ],
     "language": "python",
     "metadata": {},
     "outputs": [],
     "prompt_number": 9
    },
    {
     "cell_type": "markdown",
     "metadata": {},
     "source": [
      "An example of reading data from a Google Spreadsheet using the gspread library: http://stackoverflow.com/a/18296318/462302\n",
      "\n",
      "First you'll need to install the gspread library on your virtual machine using: `sudo pip install gspread`"
     ]
    },
    {
     "cell_type": "code",
     "collapsed": false,
     "input": [
      "import gspread"
     ],
     "language": "python",
     "metadata": {},
     "outputs": [],
     "prompt_number": 10
    },
    {
     "cell_type": "markdown",
     "metadata": {},
     "source": [
      "Define `take(n, iterable)` which is a convenience function to limit the amount of output that you print. Useful when you have lots of data that will clutter up your screen!"
     ]
    },
    {
     "cell_type": "code",
     "collapsed": false,
     "input": [
      "from itertools import islice\n",
      "def take(n, iterable):\n",
      "    \"Return first n items of the iterable as a list\"\n",
      "    return list(islice(iterable, n))"
     ],
     "language": "python",
     "metadata": {},
     "outputs": [],
     "prompt_number": 11
    },
    {
     "cell_type": "markdown",
     "metadata": {},
     "source": [
      "Read the username and password from the `[google]` section of the `stat157.cfg` config file from your virtual machine home directory."
     ]
    },
    {
     "cell_type": "code",
     "collapsed": false,
     "input": [
      "home = os.path.expanduser(\"~\")\n",
      "configfile = os.path.join(home, 'stat157.cfg')\n",
      "config = ConfigParser.SafeConfigParser()\n",
      "config.read(configfile)\n",
      "username = config.get('google', 'username')\n",
      "password = config.get('google', 'password')\n",
      "print username"
     ],
     "language": "python",
     "metadata": {},
     "outputs": [
      {
       "output_type": "stream",
       "stream": "stdout",
       "text": [
        "teresatenfelder@berkeley.edu\n"
       ]
      }
     ],
     "prompt_number": 12
    },
    {
     "cell_type": "markdown",
     "metadata": {},
     "source": [
      "Read the docid of the Google Spreadsheet from the config file."
     ]
    },
    {
     "cell_type": "code",
     "collapsed": false,
     "input": [
      "docid = config.get('questionnaire', 'docid')\n",
      "client = gspread.login(username, password)\n",
      "spreadsheet = client.open_by_key(docid)\n",
      "worksheet = spreadsheet.get_worksheet(0)\n",
      "print docid"
     ],
     "language": "python",
     "metadata": {},
     "outputs": [
      {
       "output_type": "stream",
       "stream": "stdout",
       "text": [
        "0Aj1QXjQixf-SdENDS1FzR1FGNE1kLUk0WGR1SW5peVE\n"
       ]
      }
     ],
     "prompt_number": 13
    },
    {
     "cell_type": "markdown",
     "metadata": {},
     "source": [
      "Add field names to this list to include the column from the Google Spreadsheet in the filtered data output. You should choose one other column in addition to the learning style column. Refer to README.md from the homework assignment."
     ]
    },
    {
     "cell_type": "code",
     "collapsed": false,
     "input": [
      "fieldnames = ['Timestamp','What is your learning style?', 'What is/are your career goal(s)?']\n",
      "print fieldnames"
     ],
     "language": "python",
     "metadata": {},
     "outputs": [
      {
       "output_type": "stream",
       "stream": "stdout",
       "text": [
        "['Timestamp', 'What is your learning style?', 'What is/are your career goal(s)?']\n"
       ]
      }
     ],
     "prompt_number": 14
    },
    {
     "cell_type": "markdown",
     "metadata": {},
     "source": [
      "Read in ALL rows of data from the Google Spreadsheet, but filter out columns that are not listed in `fieldnames`."
     ]
    },
    {
     "cell_type": "code",
     "collapsed": false,
     "input": [
      "filtered_data = []\n",
      "for row in worksheet.get_all_records():\n",
      "    filtered_data.append({k:v for k,v in row.iteritems() if k in fieldnames})\n",
      "print \"Number of rows: {}\".format(len(filtered_data))"
     ],
     "language": "python",
     "metadata": {},
     "outputs": [
      {
       "output_type": "stream",
       "stream": "stdout",
       "text": [
        "Number of rows: 48\n"
       ]
      }
     ],
     "prompt_number": 15
    },
    {
     "cell_type": "markdown",
     "metadata": {},
     "source": [
      "Use the convenience function `take()` to print out only 3 lines from the filtered_data."
     ]
    },
    {
     "cell_type": "code",
     "collapsed": false,
     "input": [
      "for row in take(3, filtered_data):\n",
      "    print row"
     ],
     "language": "python",
     "metadata": {},
     "outputs": [
      {
       "output_type": "stream",
       "stream": "stdout",
       "text": [
        "{'Timestamp': '9/4/2013 20:48:39', 'What is/are your career goal(s)?': 'lkajsdf', 'What is your learning style?': ''}\n",
        "{'Timestamp': '9/4/2013 21:48:39', 'What is/are your career goal(s)?': 'Data Scientist', 'What is your learning style?': 'Your scores were:\\n\\nVisual: 3\\nAural: 5\\nRead/Write: 4\\nKinesthetic: 7\\n\\nYou have a mild Kinesthetic learning preference.'}\n",
        "{'Timestamp': '9/4/2013 21:48:45', 'What is/are your career goal(s)?': 'Graduate School', 'What is your learning style?': 'I have a multimodal (VAK) learning preference.'}\n"
       ]
      }
     ],
     "prompt_number": 24
    },
    {
     "cell_type": "code",
     "collapsed": false,
     "input": [
      "import re"
     ],
     "language": "python",
     "metadata": {},
     "outputs": [],
     "prompt_number": 25
    },
    {
     "cell_type": "markdown",
     "metadata": {},
     "source": [
      "Extract the Learning Styles data and create a list containing each student's responses."
     ]
    },
    {
     "cell_type": "code",
     "collapsed": false,
     "input": [
      "learning_responses = []\n",
      "for row in filtered_data:\n",
      "    vark_response = row[fieldnames[1]]\n",
      "    match = re.search(\"Visual: (\\d{1,2})\\nAural: (\\d{1,2})\\nRead/Write: (\\d{1,2})\\nKinesthetic: (\\d{1,2})\", vark_response)\n",
      "    if match:\n",
      "        tmp = map(int, list(match.group(1, 2, 3, 4)))\n",
      "        learning_responses.append(tmp)\n",
      "print learning_responses\n",
      "len(learning_responses)"
     ],
     "language": "python",
     "metadata": {},
     "outputs": [
      {
       "output_type": "stream",
       "stream": "stdout",
       "text": [
        "[[3, 5, 4, 7], [0, 10, 14, 5], [9, 9, 3, 3], [8, 7, 8, 5], [8, 1, 8, 5], [13, 10, 8, 11], [10, 4, 5, 10], [15, 9, 6, 11], [5, 1, 4, 6], [3, 6, 6, 7], [4, 3, 1, 8], [4, 3, 11, 4], [11, 11, 6, 9], [4, 4, 7, 1], [9, 7, 10, 12], [10, 7, 11, 7], [9, 8, 10, 11], [7, 11, 4, 8], [6, 5, 7, 5], [5, 3, 9, 6], [12, 10, 13, 10], [9, 7, 5, 5], [9, 10, 10, 9], [9, 11, 3, 8], [7, 8, 9, 10], [2, 6, 4, 4]]\n"
       ]
      },
      {
       "output_type": "pyout",
       "prompt_number": 37,
       "text": [
        "26"
       ]
      }
     ],
     "prompt_number": 37
    },
    {
     "cell_type": "markdown",
     "metadata": {},
     "source": [
      "Create four lists: visual, aural, readwrite, and kinesthetic.  Populate them with students' responses in that category."
     ]
    },
    {
     "cell_type": "code",
     "collapsed": false,
     "input": [
      "visual = [res[0] for res in learning_responses]\n",
      "aural = [res[1] for res in learning_responses]\n",
      "readwrite = [res[2] for res in learning_responses]\n",
      "kinesthetic = [res[3] for res in learning_responses]\n",
      "\n",
      "print visual\n",
      "print aural\n",
      "print readwrite\n",
      "print kinesthetic"
     ],
     "language": "python",
     "metadata": {},
     "outputs": [
      {
       "output_type": "stream",
       "stream": "stdout",
       "text": [
        "[3, 0, 9, 8, 8, 13, 10, 15, 5, 3, 4, 4, 11, 4, 9, 10, 9, 7, 6, 5, 12, 9, 9, 9, 7, 2]\n",
        "[5, 10, 9, 7, 1, 10, 4, 9, 1, 6, 3, 3, 11, 4, 7, 7, 8, 11, 5, 3, 10, 7, 10, 11, 8, 6]\n",
        "[4, 14, 3, 8, 8, 8, 5, 6, 4, 6, 1, 11, 6, 7, 10, 11, 10, 4, 7, 9, 13, 5, 10, 3, 9, 4]\n",
        "[7, 5, 3, 5, 5, 11, 10, 11, 6, 7, 8, 4, 9, 1, 12, 7, 11, 8, 5, 6, 10, 5, 9, 8, 10, 4]\n"
       ]
      }
     ],
     "prompt_number": 47
    },
    {
     "cell_type": "code",
     "collapsed": false,
     "input": [],
     "language": "python",
     "metadata": {},
     "outputs": []
    }
   ],
   "metadata": {}
  }
 ]
}