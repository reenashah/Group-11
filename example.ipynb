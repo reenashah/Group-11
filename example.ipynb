{
 "metadata": {
  "name": "example"
 },
 "nbformat": 3,
 "nbformat_minor": 0,
 "worksheets": [
  {
   "cells": [
    {
     "cell_type": "markdown",
     "metadata": {},
     "source": [
      "# Group 11: Questionnaire Visualization\n",
      "This iPython Notebook Presentation walks through the steps of extracting, cleaning, analyzing, and visualizing the stat157 questionnaire data."
     ]
    },
    {
     "cell_type": "markdown",
     "metadata": {},
     "source": [
      "### Setup and Data Import\n",
      "\n",
      "Import basic Python libraries for use in your program: [os.path](http://docs.python.org/2/library/os.path.html) and [ConfigParser](http://docs.python.org/2/library/configparser.html)"
     ]
    },
    {
     "cell_type": "code",
     "collapsed": false,
     "input": [
      "import os.path\n",
      "import ConfigParser"
     ],
     "language": "python",
     "metadata": {},
     "outputs": [],
     "prompt_number": 2
    },
    {
     "cell_type": "markdown",
     "metadata": {},
     "source": [
      "An example of reading data from a Google Spreadsheet using the gspread library: http://stackoverflow.com/a/18296318/462302\n",
      "\n",
      "First you'll need to install the gspread library on your virtual machine using: `sudo pip install gspread`"
     ]
    },
    {
     "cell_type": "code",
     "collapsed": false,
     "input": [
      "import gspread"
     ],
     "language": "python",
     "metadata": {},
     "outputs": [],
     "prompt_number": 3
    },
    {
     "cell_type": "markdown",
     "metadata": {},
     "source": [
      "Define `take(n, iterable)` which is a convenience function to limit the amount of output that you print. Useful when you have lots of data that will clutter up your screen!"
     ]
    },
    {
     "cell_type": "code",
     "collapsed": false,
     "input": [
      "from itertools import islice\n",
      "def take(n, iterable):\n",
      "    \"Return first n items of the iterable as a list\"\n",
      "    return list(islice(iterable, n))"
     ],
     "language": "python",
     "metadata": {},
     "outputs": [],
     "prompt_number": 4
    },
    {
     "cell_type": "markdown",
     "metadata": {},
     "source": [
      "Read the username and password from the `[google]` section of the `stat157.cfg` config file from your virtual machine home directory."
     ]
    },
    {
     "cell_type": "code",
     "collapsed": false,
     "input": [
      "home = os.path.expanduser(\"~\")\n",
      "configfile = os.path.join(home, 'stat157.cfg')\n",
      "config = ConfigParser.SafeConfigParser()\n",
      "config.read(configfile)\n",
      "username = config.get('google', 'username')\n",
      "password = config.get('google', 'password')\n",
      "print username"
     ],
     "language": "python",
     "metadata": {},
     "outputs": [
      {
       "output_type": "stream",
       "stream": "stdout",
       "text": [
        "kimberly_le@berkeley.edu\n"
       ]
      }
     ],
     "prompt_number": 5
    },
    {
     "cell_type": "markdown",
     "metadata": {},
     "source": [
      "Read the docid of the Google Spreadsheet from the config file."
     ]
    },
    {
     "cell_type": "code",
     "collapsed": false,
     "input": [
      "docid = config.get('questionnaire', 'docid')\n",
      "client = gspread.login(username, password)\n",
      "spreadsheet = client.open_by_key(docid)\n",
      "worksheet = spreadsheet.get_worksheet(0)\n",
      "print docid"
     ],
     "language": "python",
     "metadata": {},
     "outputs": [
      {
       "output_type": "stream",
       "stream": "stdout",
       "text": [
        "0Aj1QXjQixf-SdENDS1FzR1FGNE1kLUk0WGR1SW5peVE\n"
       ]
      }
     ],
     "prompt_number": 6
    },
    {
     "cell_type": "markdown",
     "metadata": {},
     "source": [
      "Add field names to this list to include the column from the Google Spreadsheet in the filtered data output. You should choose one other column in addition to the learning style column. Refer to README.md from the homework assignment."
     ]
    },
    {
     "cell_type": "code",
     "collapsed": false,
     "input": [
      "fieldnames = ['Timestamp','What is your learning style?', 'What is/are your career goal(s)?']\n",
      "print fieldnames"
     ],
     "language": "python",
     "metadata": {},
     "outputs": [
      {
       "output_type": "stream",
       "stream": "stdout",
       "text": [
        "['Timestamp', 'What is your learning style?', 'What is/are your career goal(s)?']\n"
       ]
      }
     ],
     "prompt_number": 7
    },
    {
     "cell_type": "markdown",
     "metadata": {},
     "source": [
      "Read in ALL rows of data from the Google Spreadsheet, but filter out columns that are not listed in `fieldnames`."
     ]
    },
    {
     "cell_type": "code",
     "collapsed": false,
     "input": [
      "filtered_data = []\n",
      "for row in worksheet.get_all_records():\n",
      "    filtered_data.append({k:v for k,v in row.iteritems() if k in fieldnames})\n",
      "print \"Number of rows: {}\".format(len(filtered_data))"
     ],
     "language": "python",
     "metadata": {},
     "outputs": [
      {
       "output_type": "stream",
       "stream": "stdout",
       "text": [
        "Number of rows: 48\n"
       ]
      }
     ],
     "prompt_number": 8
    },
    {
     "cell_type": "markdown",
     "metadata": {},
     "source": [
      "Use the convenience function `take()` to print out only 3 lines from the filtered_data."
     ]
    },
    {
     "cell_type": "code",
     "collapsed": false,
     "input": [
      "for row in take(3, filtered_data):\n",
      "    print row"
     ],
     "language": "python",
     "metadata": {},
     "outputs": [
      {
       "output_type": "stream",
       "stream": "stdout",
       "text": [
        "{'Timestamp': '9/4/2013 20:48:39', 'What is/are your career goal(s)?': 'lkajsdf', 'What is your learning style?': ''}\n",
        "{'Timestamp': '9/4/2013 21:48:39', 'What is/are your career goal(s)?': 'Data Scientist', 'What is your learning style?': 'Your scores were:\\n\\nVisual: 3\\nAural: 5\\nRead/Write: 4\\nKinesthetic: 7\\n\\nYou have a mild Kinesthetic learning preference.'}\n",
        "{'Timestamp': '9/4/2013 21:48:45', 'What is/are your career goal(s)?': 'Graduate School', 'What is your learning style?': 'I have a multimodal (VAK) learning preference.'}\n"
       ]
      }
     ],
     "prompt_number": 9
    },
    {
     "cell_type": "code",
     "collapsed": false,
     "input": [
      "import re"
     ],
     "language": "python",
     "metadata": {},
     "outputs": [],
     "prompt_number": 10
    },
    {
     "cell_type": "markdown",
     "metadata": {},
     "source": [
      "## Learning Styles Responses\n",
      "\n",
      "Extract the Learning Styles data and create a list containing each student's responses."
     ]
    },
    {
     "cell_type": "code",
     "collapsed": false,
     "input": [
      "learning_responses = []\n",
      "for row in filtered_data:\n",
      "    vark_response = row[fieldnames[1]]\n",
      "    match = re.search(\"Visual: (\\d{1,2})\\nAural: (\\d{1,2})\\nRead/Write: (\\d{1,2})\\nKinesthetic: (\\d{1,2})\", vark_response)\n",
      "    if match:\n",
      "        tmp = map(int, match.group(1, 2, 3, 4))\n",
      "        learning_responses.append(tmp)\n",
      "print learning_responses\n",
      "len(learning_responses)"
     ],
     "language": "python",
     "metadata": {},
     "outputs": [
      {
       "output_type": "stream",
       "stream": "stdout",
       "text": [
        "[[3, 5, 4, 7], [0, 10, 14, 5], [9, 9, 3, 3], [8, 7, 8, 5], [8, 1, 8, 5], [13, 10, 8, 11], [10, 4, 5, 10], [15, 9, 6, 11], [5, 1, 4, 6], [3, 6, 6, 7], [4, 3, 1, 8], [4, 3, 11, 4], [11, 11, 6, 9], [4, 4, 7, 1], [9, 7, 10, 12], [10, 7, 11, 7], [9, 8, 10, 11], [7, 11, 4, 8], [6, 5, 7, 5], [5, 3, 9, 6], [12, 10, 13, 10], [9, 7, 5, 5], [9, 10, 10, 9], [9, 11, 3, 8], [7, 8, 9, 10], [2, 6, 4, 4]]\n"
       ]
      },
      {
       "output_type": "pyout",
       "prompt_number": 11,
       "text": [
        "26"
       ]
      }
     ],
     "prompt_number": 11
    },
    {
     "cell_type": "markdown",
     "metadata": {},
     "source": [
      "Create four lists: visual, aural, readwrite, and kinesthetic.  Populate them with students' responses in that category."
     ]
    },
    {
     "cell_type": "code",
     "collapsed": false,
     "input": [
      "visual = [res[0] for res in learning_responses]\n",
      "aural = [res[1] for res in learning_responses]\n",
      "readwrite = [res[2] for res in learning_responses]\n",
      "kinesthetic = [res[3] for res in learning_responses]\n",
      "\n",
      "print visual\n",
      "print aural\n",
      "print readwrite\n",
      "print kinesthetic"
     ],
     "language": "python",
     "metadata": {},
     "outputs": [
      {
       "output_type": "stream",
       "stream": "stdout",
       "text": [
        "[3, 0, 9, 8, 8, 13, 10, 15, 5, 3, 4, 4, 11, 4, 9, 10, 9, 7, 6, 5, 12, 9, 9, 9, 7, 2]\n",
        "[5, 10, 9, 7, 1, 10, 4, 9, 1, 6, 3, 3, 11, 4, 7, 7, 8, 11, 5, 3, 10, 7, 10, 11, 8, 6]\n",
        "[4, 14, 3, 8, 8, 8, 5, 6, 4, 6, 1, 11, 6, 7, 10, 11, 10, 4, 7, 9, 13, 5, 10, 3, 9, 4]\n",
        "[7, 5, 3, 5, 5, 11, 10, 11, 6, 7, 8, 4, 9, 1, 12, 7, 11, 8, 5, 6, 10, 5, 9, 8, 10, 4]\n"
       ]
      }
     ],
     "prompt_number": 12
    },
    {
     "cell_type": "code",
     "collapsed": false,
     "input": [
      "from pandas import DataFrame\n",
      "\n",
      "df = DataFrame(data = learning_responses, columns=['Visual', 'Aural', 'Read/Write', 'Kinesthetic'])\n",
      "df"
     ],
     "language": "python",
     "metadata": {},
     "outputs": [
      {
       "html": [
        "<div style=\"max-height:1000px;max-width:1500px;overflow:auto;\">\n",
        "<table border=\"1\" class=\"dataframe\">\n",
        "  <thead>\n",
        "    <tr style=\"text-align: right;\">\n",
        "      <th></th>\n",
        "      <th>Visual</th>\n",
        "      <th>Aural</th>\n",
        "      <th>Read/Write</th>\n",
        "      <th>Kinesthetic</th>\n",
        "    </tr>\n",
        "  </thead>\n",
        "  <tbody>\n",
        "    <tr>\n",
        "      <th>0 </th>\n",
        "      <td>  3</td>\n",
        "      <td>  5</td>\n",
        "      <td>  4</td>\n",
        "      <td>  7</td>\n",
        "    </tr>\n",
        "    <tr>\n",
        "      <th>1 </th>\n",
        "      <td>  0</td>\n",
        "      <td> 10</td>\n",
        "      <td> 14</td>\n",
        "      <td>  5</td>\n",
        "    </tr>\n",
        "    <tr>\n",
        "      <th>2 </th>\n",
        "      <td>  9</td>\n",
        "      <td>  9</td>\n",
        "      <td>  3</td>\n",
        "      <td>  3</td>\n",
        "    </tr>\n",
        "    <tr>\n",
        "      <th>3 </th>\n",
        "      <td>  8</td>\n",
        "      <td>  7</td>\n",
        "      <td>  8</td>\n",
        "      <td>  5</td>\n",
        "    </tr>\n",
        "    <tr>\n",
        "      <th>4 </th>\n",
        "      <td>  8</td>\n",
        "      <td>  1</td>\n",
        "      <td>  8</td>\n",
        "      <td>  5</td>\n",
        "    </tr>\n",
        "    <tr>\n",
        "      <th>5 </th>\n",
        "      <td> 13</td>\n",
        "      <td> 10</td>\n",
        "      <td>  8</td>\n",
        "      <td> 11</td>\n",
        "    </tr>\n",
        "    <tr>\n",
        "      <th>6 </th>\n",
        "      <td> 10</td>\n",
        "      <td>  4</td>\n",
        "      <td>  5</td>\n",
        "      <td> 10</td>\n",
        "    </tr>\n",
        "    <tr>\n",
        "      <th>7 </th>\n",
        "      <td> 15</td>\n",
        "      <td>  9</td>\n",
        "      <td>  6</td>\n",
        "      <td> 11</td>\n",
        "    </tr>\n",
        "    <tr>\n",
        "      <th>8 </th>\n",
        "      <td>  5</td>\n",
        "      <td>  1</td>\n",
        "      <td>  4</td>\n",
        "      <td>  6</td>\n",
        "    </tr>\n",
        "    <tr>\n",
        "      <th>9 </th>\n",
        "      <td>  3</td>\n",
        "      <td>  6</td>\n",
        "      <td>  6</td>\n",
        "      <td>  7</td>\n",
        "    </tr>\n",
        "    <tr>\n",
        "      <th>10</th>\n",
        "      <td>  4</td>\n",
        "      <td>  3</td>\n",
        "      <td>  1</td>\n",
        "      <td>  8</td>\n",
        "    </tr>\n",
        "    <tr>\n",
        "      <th>11</th>\n",
        "      <td>  4</td>\n",
        "      <td>  3</td>\n",
        "      <td> 11</td>\n",
        "      <td>  4</td>\n",
        "    </tr>\n",
        "    <tr>\n",
        "      <th>12</th>\n",
        "      <td> 11</td>\n",
        "      <td> 11</td>\n",
        "      <td>  6</td>\n",
        "      <td>  9</td>\n",
        "    </tr>\n",
        "    <tr>\n",
        "      <th>13</th>\n",
        "      <td>  4</td>\n",
        "      <td>  4</td>\n",
        "      <td>  7</td>\n",
        "      <td>  1</td>\n",
        "    </tr>\n",
        "    <tr>\n",
        "      <th>14</th>\n",
        "      <td>  9</td>\n",
        "      <td>  7</td>\n",
        "      <td> 10</td>\n",
        "      <td> 12</td>\n",
        "    </tr>\n",
        "    <tr>\n",
        "      <th>15</th>\n",
        "      <td> 10</td>\n",
        "      <td>  7</td>\n",
        "      <td> 11</td>\n",
        "      <td>  7</td>\n",
        "    </tr>\n",
        "    <tr>\n",
        "      <th>16</th>\n",
        "      <td>  9</td>\n",
        "      <td>  8</td>\n",
        "      <td> 10</td>\n",
        "      <td> 11</td>\n",
        "    </tr>\n",
        "    <tr>\n",
        "      <th>17</th>\n",
        "      <td>  7</td>\n",
        "      <td> 11</td>\n",
        "      <td>  4</td>\n",
        "      <td>  8</td>\n",
        "    </tr>\n",
        "    <tr>\n",
        "      <th>18</th>\n",
        "      <td>  6</td>\n",
        "      <td>  5</td>\n",
        "      <td>  7</td>\n",
        "      <td>  5</td>\n",
        "    </tr>\n",
        "    <tr>\n",
        "      <th>19</th>\n",
        "      <td>  5</td>\n",
        "      <td>  3</td>\n",
        "      <td>  9</td>\n",
        "      <td>  6</td>\n",
        "    </tr>\n",
        "    <tr>\n",
        "      <th>20</th>\n",
        "      <td> 12</td>\n",
        "      <td> 10</td>\n",
        "      <td> 13</td>\n",
        "      <td> 10</td>\n",
        "    </tr>\n",
        "    <tr>\n",
        "      <th>21</th>\n",
        "      <td>  9</td>\n",
        "      <td>  7</td>\n",
        "      <td>  5</td>\n",
        "      <td>  5</td>\n",
        "    </tr>\n",
        "    <tr>\n",
        "      <th>22</th>\n",
        "      <td>  9</td>\n",
        "      <td> 10</td>\n",
        "      <td> 10</td>\n",
        "      <td>  9</td>\n",
        "    </tr>\n",
        "    <tr>\n",
        "      <th>23</th>\n",
        "      <td>  9</td>\n",
        "      <td> 11</td>\n",
        "      <td>  3</td>\n",
        "      <td>  8</td>\n",
        "    </tr>\n",
        "    <tr>\n",
        "      <th>24</th>\n",
        "      <td>  7</td>\n",
        "      <td>  8</td>\n",
        "      <td>  9</td>\n",
        "      <td> 10</td>\n",
        "    </tr>\n",
        "    <tr>\n",
        "      <th>25</th>\n",
        "      <td>  2</td>\n",
        "      <td>  6</td>\n",
        "      <td>  4</td>\n",
        "      <td>  4</td>\n",
        "    </tr>\n",
        "  </tbody>\n",
        "</table>\n",
        "</div>"
       ],
       "output_type": "pyout",
       "prompt_number": 13,
       "text": [
        "    Visual  Aural  Read/Write  Kinesthetic\n",
        "0        3      5           4            7\n",
        "1        0     10          14            5\n",
        "2        9      9           3            3\n",
        "3        8      7           8            5\n",
        "4        8      1           8            5\n",
        "5       13     10           8           11\n",
        "6       10      4           5           10\n",
        "7       15      9           6           11\n",
        "8        5      1           4            6\n",
        "9        3      6           6            7\n",
        "10       4      3           1            8\n",
        "11       4      3          11            4\n",
        "12      11     11           6            9\n",
        "13       4      4           7            1\n",
        "14       9      7          10           12\n",
        "15      10      7          11            7\n",
        "16       9      8          10           11\n",
        "17       7     11           4            8\n",
        "18       6      5           7            5\n",
        "19       5      3           9            6\n",
        "20      12     10          13           10\n",
        "21       9      7           5            5\n",
        "22       9     10          10            9\n",
        "23       9     11           3            8\n",
        "24       7      8           9           10\n",
        "25       2      6           4            4"
       ]
      }
     ],
     "prompt_number": 13
    },
    {
     "cell_type": "heading",
     "level": 4,
     "metadata": {},
     "source": [
      "Overall Class Sum for each Learning Style"
     ]
    },
    {
     "cell_type": "code",
     "collapsed": false,
     "input": [
      "df.sum()"
     ],
     "language": "python",
     "metadata": {},
     "outputs": [
      {
       "output_type": "pyout",
       "prompt_number": 14,
       "text": [
        "Visual         191\n",
        "Aural          176\n",
        "Read/Write     186\n",
        "Kinesthetic    187"
       ]
      }
     ],
     "prompt_number": 14
    },
    {
     "cell_type": "heading",
     "level": 4,
     "metadata": {},
     "source": [
      "Mean Values for each Learning Style"
     ]
    },
    {
     "cell_type": "code",
     "collapsed": false,
     "input": [
      "df.mean()"
     ],
     "language": "python",
     "metadata": {},
     "outputs": [
      {
       "output_type": "pyout",
       "prompt_number": 15,
       "text": [
        "Visual         7.346154\n",
        "Aural          6.769231\n",
        "Read/Write     7.153846\n",
        "Kinesthetic    7.192308"
       ]
      }
     ],
     "prompt_number": 15
    },
    {
     "cell_type": "heading",
     "level": 4,
     "metadata": {},
     "source": [
      "Class Median Values for each Learning Style"
     ]
    },
    {
     "cell_type": "code",
     "collapsed": false,
     "input": [
      "df.median()"
     ],
     "language": "python",
     "metadata": {},
     "outputs": [
      {
       "output_type": "pyout",
       "prompt_number": 16,
       "text": [
        "Visual         8\n",
        "Aural          7\n",
        "Read/Write     7\n",
        "Kinesthetic    7"
       ]
      }
     ],
     "prompt_number": 16
    },
    {
     "cell_type": "markdown",
     "metadata": {},
     "source": [
      "## Career Goals Responses\n",
      "\n",
      "extract the raw string of each student's response."
     ]
    },
    {
     "cell_type": "code",
     "collapsed": false,
     "input": [
      "career_response = []\n",
      "for row in filtered_data:\n",
      "    print row[fieldnames[2]]\n",
      "    career_response.append(row[fieldnames[2]])\n",
      "\n",
      "len(career_response)"
     ],
     "language": "python",
     "metadata": {},
     "outputs": [
      {
       "output_type": "stream",
       "stream": "stdout",
       "text": [
        "lkajsdf\n",
        "Data Scientist\n",
        "Graduate School\n",
        "To be autonomous and start my own company\n",
        "To become an entrepreneur.\n",
        "Entrepreneur\n",
        "Work as an epidemiologist or biostatistician\n",
        "Editor\n",
        "Actuary\n",
        "Actuary / MFE Grad School\n",
        "doctor\n",
        "Data Science, software engineering\n",
        "being able to actually help solving problems with what i have learned.\n",
        "Researcher\n",
        "Consulting, Data Analytics\n",
        "work internationally\n",
        "statistician\n",
        "To use my skills in a profession I'm interested in.\n",
        "actuarial science\n",
        "CEO of my own company\n",
        "Work in an industry I find challenging, engaging, and interesting\n",
        "to be a well-rounded data scientist who thinks statistically, implements machine learning algorithms to solve problems, and hones my coding skills to do awesome viz stuff with D3\n",
        "data scientist, great computer scientist, quant, eventually return home to Vietnam and help my mom run her start-up, etc.\n",
        "Market Research, Marketing\n",
        "to make a positive impact on the world\n",
        "Software Engineering\n",
        "Finance at a Technology company\n",
        "Data Engineer\n",
        "Researcher in Psychology\n",
        "Big Data success!\n",
        "Work as a software engineer for a couple years and then start my own technology company\n",
        "not sure yet.\n",
        "staying in an industry where I am challenged and learning\n",
        "have fun with job\n",
        "Actuary\n",
        "data science\n",
        "Help people using analytical skills\n",
        "Data Analyst\n",
        "Actuary\n",
        "Math teacher\n",
        "starting up my own company and or career in consulting / data analysis \n",
        "work at a job that i'm happy in\n",
        "dunno. data science in finence sector? \n",
        "statistician\n",
        "Software Engineering or Actuarial Sciences\n",
        "Get a job.\n",
        "Be an actuary!!\n",
        "Actuary \n"
       ]
      },
      {
       "output_type": "pyout",
       "prompt_number": 17,
       "text": [
        "48"
       ]
      }
     ],
     "prompt_number": 17
    },
    {
     "cell_type": "markdown",
     "metadata": {},
     "source": [
      "### Cleaning the Raw Career Goals Responses\n",
      "\n",
      "+ Filter each response string to keep only words with 5 or more characters.  \n",
      "+ Remove all characters that aren't letters or spaces.\n",
      "+ Convert all characters to lowercase"
     ]
    },
    {
     "cell_type": "code",
     "collapsed": false,
     "input": [
      "import string\n",
      "\n",
      "filtered_career_response = []\n",
      "for i in range(0, len(career_response)):\n",
      "    res = string.join([word for word in career_response[i].lower().split() if len(word) >= 5])\n",
      "    filtered_career_response.append(res)\n",
      "\n",
      "p = re.compile(\"[^a-zA-Z ]\")\n",
      "for i in range(len(filtered_career_response)):\n",
      "    filtered_career_response[i] = p.sub(\"\", filtered_career_response[i])\n",
      "    print filtered_career_response[i]"
     ],
     "language": "python",
     "metadata": {},
     "outputs": [
      {
       "output_type": "stream",
       "stream": "stdout",
       "text": [
        "lkajsdf\n",
        "scientist\n",
        "graduate school\n",
        "autonomous start company\n",
        "become entrepreneur\n",
        "entrepreneur\n",
        "epidemiologist biostatistician\n",
        "editor\n",
        "actuary\n",
        "actuary school\n",
        "doctor\n",
        "science software engineering\n",
        "being actually solving problems learned\n",
        "researcher\n",
        "consulting analytics\n",
        "internationally\n",
        "statistician\n",
        "skills profession interested\n",
        "actuarial science\n",
        "company\n",
        "industry challenging engaging interesting\n",
        "wellrounded scientist thinks statistically implements machine learning algorithms solve problems hones coding skills awesome stuff\n",
        "scientist great computer scientist quant eventually return vietnam startup\n",
        "market research marketing\n",
        "positive impact world\n",
        "software engineering\n",
        "finance technology company\n",
        "engineer\n",
        "researcher psychology\n",
        "success\n",
        "software engineer couple years start technology company\n",
        "\n",
        "staying industry where challenged learning\n",
        "\n",
        "actuary\n",
        "science\n",
        "people using analytical skills\n",
        "analyst\n",
        "actuary\n",
        "teacher\n",
        "starting company career consulting analysis\n",
        "happy\n",
        "dunno science finence sector\n",
        "statistician\n",
        "software engineering actuarial sciences\n",
        "\n",
        "actuary\n",
        "actuary\n"
       ]
      }
     ],
     "prompt_number": 18
    },
    {
     "cell_type": "markdown",
     "metadata": {},
     "source": [
      "Create overall (classwide) counts of each word"
     ]
    },
    {
     "cell_type": "code",
     "collapsed": false,
     "input": [
      "from pandas import Series\n",
      "\n",
      "words = string.join(filtered_career_response).split()\n",
      "obj = Series(words)\n",
      "obj.value_counts()"
     ],
     "language": "python",
     "metadata": {},
     "outputs": [
      {
       "output_type": "pyout",
       "prompt_number": 19,
       "text": [
        "actuary            6\n",
        "company            5\n",
        "science            4\n",
        "software           4\n",
        "scientist          4\n",
        "skills             3\n",
        "engineering        3\n",
        "school             2\n",
        "industry           2\n",
        "statistician       2\n",
        "problems           2\n",
        "start              2\n",
        "researcher         2\n",
        "engineer           2\n",
        "technology         2\n",
        "learning           2\n",
        "entrepreneur       2\n",
        "actuarial          2\n",
        "consulting         2\n",
        "dunno              1\n",
        "startup            1\n",
        "where              1\n",
        "autonomous         1\n",
        "become             1\n",
        "analytical         1\n",
        "solve              1\n",
        "stuff              1\n",
        "market             1\n",
        "wellrounded        1\n",
        "analysis           1\n",
        "awesome            1\n",
        "success            1\n",
        "couple             1\n",
        "great              1\n",
        "implements         1\n",
        "using              1\n",
        "analyst            1\n",
        "research           1\n",
        "vietnam            1\n",
        "world              1\n",
        "biostatistician    1\n",
        "teacher            1\n",
        "people             1\n",
        "marketing          1\n",
        "finence            1\n",
        "statistically      1\n",
        "return             1\n",
        "staying            1\n",
        "eventually         1\n",
        "happy              1\n",
        "graduate           1\n",
        "learned            1\n",
        "interesting        1\n",
        "editor             1\n",
        "quant              1\n",
        "interested         1\n",
        "algorithms         1\n",
        "machine            1\n",
        "actually           1\n",
        "sciences           1\n",
        "lkajsdf            1\n",
        "analytics          1\n",
        "solving            1\n",
        "finance            1\n",
        "doctor             1\n",
        "internationally    1\n",
        "psychology         1\n",
        "career             1\n",
        "impact             1\n",
        "computer           1\n",
        "thinks             1\n",
        "starting           1\n",
        "hones              1\n",
        "challenged         1\n",
        "engaging           1\n",
        "years              1\n",
        "coding             1\n",
        "profession         1\n",
        "being              1\n",
        "epidemiologist     1\n",
        "challenging        1\n",
        "positive           1\n",
        "sector             1\n",
        "Length: 83"
       ]
      }
     ],
     "prompt_number": 19
    },
    {
     "cell_type": "code",
     "collapsed": false,
     "input": [
      "from pytagcloud import create_tag_image, create_html_data, make_tags, LAYOUT_HORIZONTAL, LAYOUTS, LAYOUT_MIX, LAYOUT_VERTICAL, LAYOUT_MOST_HORIZONTAL, LAYOUT_MOST_VERTICAL\n",
      "from pytagcloud.colors import COLOR_SCHEMES\n",
      "from pytagcloud.lang.counter import get_tag_counts\n",
      "\n",
      "tags = make_tags(get_tag_counts(string.join(words)), minsize=1, maxsize=120)\n",
      "cloud_css = create_html_data(tags)\n",
      "create_tag_image(tags, 'cloud_large.png', size=(900, 600), fontname='Lobster')"
     ],
     "language": "python",
     "metadata": {},
     "outputs": [],
     "prompt_number": 20
    },
    {
     "cell_type": "code",
     "collapsed": false,
     "input": [
      "tags2 = make_tags(get_tag_counts(string.join(words)),maxsize=30)\n",
      "create_tag_image(tags2, 'test_cloud.png', background=(0, 0, 0, 255), layout=LAYOUT_MIX, fontname='Lobster', rectangular=True)"
     ],
     "language": "python",
     "metadata": {},
     "outputs": [],
     "prompt_number": 42
    },
    {
     "cell_type": "code",
     "collapsed": false,
     "input": [],
     "language": "python",
     "metadata": {},
     "outputs": [
      {
       "output_type": "pyout",
       "prompt_number": 22,
       "text": [
        "[{'color': (22, 151, 209), 'size': 300, 'tag': 'actuary'},\n",
        " {'color': (216, 194, 69), 'size': 260, 'tag': 'company'},\n",
        " {'color': (144, 213, 210), 'size': 217, 'tag': 'scientist'},\n",
        " {'color': (103, 162, 175), 'size': 217, 'tag': 'software'},\n",
        " {'color': (68, 115, 12), 'size': 217, 'tag': 'science'},\n",
        " {'color': (135, 177, 50), 'size': 173, 'tag': 'engineering'},\n",
        " {'color': (158, 46, 210), 'size': 173, 'tag': 'skills'},\n",
        " {'color': (16, 20, 204), 'size': 126, 'tag': 'statistician'},\n",
        " {'color': (101, 24, 70), 'size': 126, 'tag': 'entrepreneur'},\n",
        " {'color': (34, 192, 22), 'size': 126, 'tag': 'technology'},\n",
        " {'color': (23, 43, 22), 'size': 126, 'tag': 'researcher'},\n",
        " {'color': (103, 174, 135), 'size': 126, 'tag': 'consulting'},\n",
        " {'color': (22, 113, 21), 'size': 126, 'tag': 'actuarial'},\n",
        " {'color': (216, 110, 76), 'size': 126, 'tag': 'industry'},\n",
        " {'color': (85, 43, 109), 'size': 126, 'tag': 'problems'},\n",
        " {'color': (153, 178, 125), 'size': 126, 'tag': 'engineer'},\n",
        " {'color': (201, 66, 62), 'size': 126, 'tag': 'learning'},\n",
        " {'color': (169, 154, 171), 'size': 126, 'tag': 'school'},\n",
        " {'color': (163, 204, 78), 'size': 126, 'tag': 'start'},\n",
        " {'color': (135, 83, 217), 'size': 73, 'tag': 'internationally'},\n",
        " {'color': (93, 123, 25), 'size': 73, 'tag': 'epidemiologist'},\n",
        " {'color': (213, 135, 43), 'size': 73, 'tag': 'interesting'},\n",
        " {'color': (16, 200, 17), 'size': 73, 'tag': 'challenging'},\n",
        " {'color': (144, 22, 129), 'size': 73, 'tag': 'interested'},\n",
        " {'color': (125, 184, 118), 'size': 73, 'tag': 'challenged'},\n",
        " {'color': (165, 192, 99), 'size': 73, 'tag': 'psychology'},\n",
        " {'color': (87, 158, 86), 'size': 73, 'tag': 'marketing'},\n",
        " {'color': (89, 137, 169), 'size': 73, 'tag': 'graduate'},\n",
        " {'color': (96, 62, 50), 'size': 73, 'tag': 'research'},\n",
        " {'color': (20, 28, 105), 'size': 73, 'tag': 'computer'},\n",
        " {'color': (67, 47, 54), 'size': 73, 'tag': 'sciences'},\n",
        " {'color': (92, 10, 129), 'size': 73, 'tag': 'actually'},\n",
        " {'color': (97, 13, 219), 'size': 73, 'tag': 'engaging'},\n",
        " {'color': (48, 48, 130), 'size': 73, 'tag': 'teacher'},\n",
        " {'color': (138, 213, 75), 'size': 73, 'tag': 'machine'},\n",
        " {'color': (92, 100, 76), 'size': 73, 'tag': 'solving'},\n",
        " {'color': (33, 181, 63), 'size': 73, 'tag': 'startup'},\n",
        " {'color': (104, 122, 82), 'size': 73, 'tag': 'finance'},\n",
        " {'color': (188, 98, 132), 'size': 73, 'tag': 'lkajsdf'},\n",
        " {'color': (143, 215, 20), 'size': 73, 'tag': 'editor'},\n",
        " {'color': (179, 206, 175), 'size': 73, 'tag': 'doctor'},\n",
        " {'color': (144, 75, 165), 'size': 73, 'tag': 'market'},\n",
        " {'color': (68, 122, 108), 'size': 73, 'tag': 'thinks'},\n",
        " {'color': (136, 135, 178), 'size': 73, 'tag': 'impact'},\n",
        " {'color': (105, 48, 10), 'size': 73, 'tag': 'sector'},\n",
        " {'color': (199, 25, 38), 'size': 73, 'tag': 'quant'},\n",
        " {'color': (191, 50, 56), 'size': 73, 'tag': 'dunno'},\n",
        " {'color': (176, 217, 182), 'size': 73, 'tag': 'hones'},\n",
        " {'color': (216, 106, 87), 'size': 73, 'tag': 'using'},\n",
        " {'color': (16, 103, 67), 'size': 73, 'tag': 'years'}]"
       ]
      }
     ],
     "prompt_number": 22
    },
    {
     "cell_type": "markdown",
     "metadata": {},
     "source": [
      "![alt text](https://raw.github.com/reenashah/Group-11/master/cloud_large.png \"Career Goals Word-Cloud\")\n",
      "\n",
      "![alt text](https://raw.github.com/reenashah/Group-11/master/test_cloud.png \"Career Goals Word-Cloud\")"
     ]
    }
   ],
   "metadata": {}
  }
 ]
}