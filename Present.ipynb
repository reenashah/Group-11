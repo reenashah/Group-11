{
 "metadata": {
  "name": "Present"
 },
 "nbformat": 3,
 "nbformat_minor": 0,
 "worksheets": [
  {
   "cells": [
    {
     "cell_type": "markdown",
     "metadata": {},
     "source": [
      "# Group 11: Questionnaire Visualization\n",
      "* Curator: Kimberly Li\n",
      "* Analyzer: Teresa Tenfelder\n",
      "* Visualizer: Reena Shah\n",
      "* Presenter: Wen Liang \n",
      "\n",
      "This iPython Notebook Presentation walks through the steps of extracting, cleaning, analyzing, and visualizing the stat157 questionnaire data."
     ]
    },
    {
     "cell_type": "markdown",
     "metadata": {},
     "source": [
      "![First Meeting 2013-10-03](https://raw.github.com/adam-p/markdown-here/master/src/common/images/icon48.png) First Meeting 2013-10-03\n",
      "------------\n",
      "- Columns we want to analyze: **Learning Style** & **Career Goals**\n",
      "- Create two **separate** visualizations for each in order to **accurately** show the class distribution\n",
      "  - We may discuss finding a **correlation** between the two at another time.\n",
      "\n",
      "### Curating the Data\n",
      "\n",
      "- Learning Style Data\n",
      "  - eliminate unusual data (count as null); this way we will not run into any skewed biases \n",
      "  - Suggestion: create a matrix\n",
      "    - 4 columns (one for each category); the students' results as each of the entries\n",
      "\n",
      "- Career Goal Data\n",
      "  - Suggestion 1: group the data into industries; ie Business, Tech, Actuarial Science, etc.\n",
      "  - Suggestion 2: Each title is a separate category; ie Statistician, Data Analyst, etc.\n",
      "    - for entries with more than one job title, split the weightage (so if someone put down 2 options, each entry will count as 0.5)\n",
      "\n",
      "### Analyzing & Visualizing the Data\n",
      "- Learning Style Data\n",
      "    - Suggestion: box and whisker plot\n",
      "        - take note of median, mean, range of results\n",
      "    \n",
      "      \n",
      "- Career Goal Data\n",
      "    - Suggestion: \n",
      "        - stacked bar chart \n",
      "        - Each title represents a distinct category, and the 4 stratifications are shown.\n",
      "    - [Analyzing Categorical Data](http://www.datavis.ca/papers/casm/casm.pdf)\n",
      "\n",
      "**Graphs in Python**\n",
      "  - [bargraphs/stacked.py](http://pyx.sourceforge.net/examples/bargraphs/stacked.html)\n",
      "  - [bargraphs/errors.py](http://pyx.sourceforge.net/examples/bargraphs/errors.html)\n",
      "  - [Pie Chart](http://www.advsofteng.com/doc/cdpydoc/threedpie.htm)\n",
      "\n",
      "### Presentation\n",
      "\n",
      "  - HTML5\n",
      "  - 2 graphs showing invidividual data, possibly 1 graph showing correlation"
     ]
    },
    {
     "cell_type": "markdown",
     "metadata": {},
     "source": []
    },
    {
     "cell_type": "markdown",
     "metadata": {},
     "source": [
      "### Setup and Data Import\n",
      "\n",
      "* Import basic Python libraries for use in your program: [os.path](http://docs.python.org/2/library/os.path.html) and [ConfigParser](http://docs.python.org/2/library/configparser.html)\n",
      "* Install the gspread library on your virtual machine using: `sudo pip install gspread`"
     ]
    },
    {
     "cell_type": "code",
     "collapsed": true,
     "input": [
      "import os.path\n",
      "\n",
      "import ConfigParser"
     ],
     "language": "python",
     "metadata": {},
     "outputs": [],
     "prompt_number": 1
    },
    {
     "cell_type": "code",
     "collapsed": true,
     "input": [
      "import gspread"
     ],
     "language": "python",
     "metadata": {},
     "outputs": [],
     "prompt_number": 2
    },
    {
     "cell_type": "markdown",
     "metadata": {},
     "source": [
      "Define `take(n, iterable)` which is a convenience function to limit the amount of output that you print. Useful when you have lots of data that will clutter up your screen!"
     ]
    },
    {
     "cell_type": "code",
     "collapsed": true,
     "input": [
      "from itertools import islice\n",
      "\n",
      "def take(n, iterable):\n",
      "\n",
      "    \"Return first n items of the iterable as a list\"\n",
      "\n",
      "    return list(islice(iterable, n))"
     ],
     "language": "python",
     "metadata": {},
     "outputs": [],
     "prompt_number": 3
    },
    {
     "cell_type": "markdown",
     "metadata": {},
     "source": [
      "Read the username and password from the `[google]` section of the `stat157.cfg` config file from your virtual machine home directory."
     ]
    },
    {
     "cell_type": "code",
     "collapsed": false,
     "input": [
      "home = os.path.expanduser(\"~\")\n",
      "\n",
      "configfile = os.path.join(home, 'stat157.cfg')\n",
      "\n",
      "config = ConfigParser.SafeConfigParser()\n",
      "\n",
      "config.read(configfile)\n",
      "\n",
      "username = config.get('google', 'username')\n",
      "\n",
      "password = config.get('google', 'password')\n",
      "\n",
      "print username"
     ],
     "language": "python",
     "metadata": {},
     "outputs": [
      {
       "output_type": "stream",
       "stream": "stdout",
       "text": [
        "kimberly_le@berkeley.edu\n"
       ]
      }
     ],
     "prompt_number": 4
    },
    {
     "cell_type": "markdown",
     "metadata": {},
     "source": [
      "Read the docid of the Google Spreadsheet from the config file."
     ]
    },
    {
     "cell_type": "code",
     "collapsed": false,
     "input": [
      "docid = config.get('questionnaire', 'docid')\n",
      "\n",
      "client = gspread.login(username, password)\n",
      "\n",
      "spreadsheet = client.open_by_key(docid)\n",
      "\n",
      "worksheet = spreadsheet.get_worksheet(0)\n",
      "\n",
      "print docid"
     ],
     "language": "python",
     "metadata": {},
     "outputs": [
      {
       "output_type": "stream",
       "stream": "stdout",
       "text": [
        "0Aj1QXjQixf-SdENDS1FzR1FGNE1kLUk0WGR1SW5peVE\n"
       ]
      }
     ],
     "prompt_number": 5
    },
    {
     "cell_type": "markdown",
     "metadata": {},
     "source": [
      "Add field names to this list to include the column from the Google Spreadsheet in the filtered data output. You should choose one other column in addition to the learning style column. Refer to README.md from the homework assignment."
     ]
    },
    {
     "cell_type": "code",
     "collapsed": false,
     "input": [
      "fieldnames = ['Timestamp','What is your learning style?', 'What is/are your career goal(s)?']\n",
      "\n",
      "print fieldnames"
     ],
     "language": "python",
     "metadata": {},
     "outputs": [
      {
       "output_type": "stream",
       "stream": "stdout",
       "text": [
        "['Timestamp', 'What is your learning style?', 'What is/are your career goal(s)?']\n"
       ]
      }
     ],
     "prompt_number": 6
    },
    {
     "cell_type": "markdown",
     "metadata": {},
     "source": [
      "Read in ALL rows of data from the Google Spreadsheet, but filter out columns that are not listed in `fieldnames`."
     ]
    },
    {
     "cell_type": "code",
     "collapsed": false,
     "input": [
      "filtered_data = []\n",
      "\n",
      "for row in worksheet.get_all_records():\n",
      "\n",
      "    filtered_data.append({k:v for k,v in row.iteritems() if k in fieldnames})\n",
      "\n",
      "print \"Number of rows: {}\".format(len(filtered_data))"
     ],
     "language": "python",
     "metadata": {},
     "outputs": [
      {
       "output_type": "stream",
       "stream": "stdout",
       "text": [
        "Number of rows: 48\n"
       ]
      }
     ],
     "prompt_number": 7
    },
    {
     "cell_type": "markdown",
     "metadata": {},
     "source": [
      "Use the convenience function `take()` to print out only 3 lines from the filtered_data."
     ]
    },
    {
     "cell_type": "code",
     "collapsed": false,
     "input": [
      "for row in take(3, filtered_data):\n",
      "\n",
      "    print row"
     ],
     "language": "python",
     "metadata": {},
     "outputs": [
      {
       "output_type": "stream",
       "stream": "stdout",
       "text": [
        "{'Timestamp': '9/4/2013 20:48:39', 'What is/are your career goal(s)?': 'lkajsdf', 'What is your learning style?': ''}\n",
        "{'Timestamp': '9/4/2013 21:48:39', 'What is/are your career goal(s)?': 'Data Scientist', 'What is your learning style?': 'Your scores were:\\n\\nVisual: 3\\nAural: 5\\nRead/Write: 4\\nKinesthetic: 7\\n\\nYou have a mild Kinesthetic learning preference.'}\n",
        "{'Timestamp': '9/4/2013 21:48:45', 'What is/are your career goal(s)?': 'Graduate School', 'What is your learning style?': 'I have a multimodal (VAK) learning preference.'}\n"
       ]
      }
     ],
     "prompt_number": 8
    },
    {
     "cell_type": "code",
     "collapsed": true,
     "input": [
      "import re"
     ],
     "language": "python",
     "metadata": {},
     "outputs": [],
     "prompt_number": 9
    },
    {
     "cell_type": "markdown",
     "metadata": {},
     "source": [
      "## Learning Styles Responses\n",
      "\n",
      "\n",
      "\n",
      "Extract the Learning Styles data and create a list containing each student's responses."
     ]
    },
    {
     "cell_type": "code",
     "collapsed": false,
     "input": [
      "learning_responses = []\n",
      "\n",
      "for row in filtered_data:\n",
      "\n",
      "    vark_response = row[fieldnames[1]]\n",
      "\n",
      "    match = re.search(\"Visual: (\\d{1,2})\\nAural: (\\d{1,2})\\nRead/Write: (\\d{1,2})\\nKinesthetic: (\\d{1,2})\", vark_response)\n",
      "\n",
      "    if match:\n",
      "\n",
      "        tmp = map(int, match.group(1, 2, 3, 4))\n",
      "\n",
      "        learning_responses.append(tmp)\n",
      "\n",
      "print learning_responses\n",
      "\n",
      "len(learning_responses)"
     ],
     "language": "python",
     "metadata": {},
     "outputs": [
      {
       "output_type": "stream",
       "stream": "stdout",
       "text": [
        "[[3, 5, 4, 7], [0, 10, 14, 5], [9, 9, 3, 3], [8, 7, 8, 5], [8, 1, 8, 5], [13, 10, 8, 11], [10, 4, 5, 10], [15, 9, 6, 11], [5, 1, 4, 6], [3, 6, 6, 7], [4, 3, 1, 8], [4, 3, 11, 4], [11, 11, 6, 9], [4, 4, 7, 1], [9, 7, 10, 12], [10, 7, 11, 7], [9, 8, 10, 11], [7, 11, 4, 8], [6, 5, 7, 5], [5, 3, 9, 6], [12, 10, 13, 10], [9, 7, 5, 5], [9, 10, 10, 9], [9, 11, 3, 8], [7, 8, 9, 10], [2, 6, 4, 4]]\n"
       ]
      },
      {
       "output_type": "pyout",
       "prompt_number": 10,
       "text": [
        "26"
       ]
      }
     ],
     "prompt_number": 10
    },
    {
     "cell_type": "markdown",
     "metadata": {},
     "source": [
      "Create four lists: visual, aural, readwrite, and kinesthetic.  Populate them with students' responses in that category."
     ]
    },
    {
     "cell_type": "code",
     "collapsed": false,
     "input": [
      "visual = [res[0] for res in learning_responses]\n",
      "\n",
      "aural = [res[1] for res in learning_responses]\n",
      "\n",
      "readwrite = [res[2] for res in learning_responses]\n",
      "\n",
      "kinesthetic = [res[3] for res in learning_responses]\n",
      "\n",
      "\n",
      "\n",
      "print visual\n",
      "\n",
      "print aural\n",
      "\n",
      "print readwrite\n",
      "\n",
      "print kinesthetic"
     ],
     "language": "python",
     "metadata": {},
     "outputs": [
      {
       "output_type": "stream",
       "stream": "stdout",
       "text": [
        "[3, 0, 9, 8, 8, 13, 10, 15, 5, 3, 4, 4, 11, 4, 9, 10, 9, 7, 6, 5, 12, 9, 9, 9, 7, 2]\n",
        "[5, 10, 9, 7, 1, 10, 4, 9, 1, 6, 3, 3, 11, 4, 7, 7, 8, 11, 5, 3, 10, 7, 10, 11, 8, 6]\n",
        "[4, 14, 3, 8, 8, 8, 5, 6, 4, 6, 1, 11, 6, 7, 10, 11, 10, 4, 7, 9, 13, 5, 10, 3, 9, 4]\n",
        "[7, 5, 3, 5, 5, 11, 10, 11, 6, 7, 8, 4, 9, 1, 12, 7, 11, 8, 5, 6, 10, 5, 9, 8, 10, 4]\n"
       ]
      }
     ],
     "prompt_number": 11
    },
    {
     "cell_type": "code",
     "collapsed": false,
     "input": [
      "from pandas import DataFrame\n",
      "\n",
      "\n",
      "\n",
      "df = DataFrame(data = learning_responses, columns=['Visual', 'Aural', 'Read/Write', 'Kinesthetic'])\n",
      "\n",
      "df"
     ],
     "language": "python",
     "metadata": {},
     "outputs": [
      {
       "html": [
        "<div style=\"max-height:1000px;max-width:1500px;overflow:auto;\">\n",
        "<table border=\"1\" class=\"dataframe\">\n",
        "  <thead>\n",
        "    <tr style=\"text-align: right;\">\n",
        "      <th></th>\n",
        "      <th>Visual</th>\n",
        "      <th>Aural</th>\n",
        "      <th>Read/Write</th>\n",
        "      <th>Kinesthetic</th>\n",
        "    </tr>\n",
        "  </thead>\n",
        "  <tbody>\n",
        "    <tr>\n",
        "      <th>0 </th>\n",
        "      <td>  3</td>\n",
        "      <td>  5</td>\n",
        "      <td>  4</td>\n",
        "      <td>  7</td>\n",
        "    </tr>\n",
        "    <tr>\n",
        "      <th>1 </th>\n",
        "      <td>  0</td>\n",
        "      <td> 10</td>\n",
        "      <td> 14</td>\n",
        "      <td>  5</td>\n",
        "    </tr>\n",
        "    <tr>\n",
        "      <th>2 </th>\n",
        "      <td>  9</td>\n",
        "      <td>  9</td>\n",
        "      <td>  3</td>\n",
        "      <td>  3</td>\n",
        "    </tr>\n",
        "    <tr>\n",
        "      <th>3 </th>\n",
        "      <td>  8</td>\n",
        "      <td>  7</td>\n",
        "      <td>  8</td>\n",
        "      <td>  5</td>\n",
        "    </tr>\n",
        "    <tr>\n",
        "      <th>4 </th>\n",
        "      <td>  8</td>\n",
        "      <td>  1</td>\n",
        "      <td>  8</td>\n",
        "      <td>  5</td>\n",
        "    </tr>\n",
        "    <tr>\n",
        "      <th>5 </th>\n",
        "      <td> 13</td>\n",
        "      <td> 10</td>\n",
        "      <td>  8</td>\n",
        "      <td> 11</td>\n",
        "    </tr>\n",
        "    <tr>\n",
        "      <th>6 </th>\n",
        "      <td> 10</td>\n",
        "      <td>  4</td>\n",
        "      <td>  5</td>\n",
        "      <td> 10</td>\n",
        "    </tr>\n",
        "    <tr>\n",
        "      <th>7 </th>\n",
        "      <td> 15</td>\n",
        "      <td>  9</td>\n",
        "      <td>  6</td>\n",
        "      <td> 11</td>\n",
        "    </tr>\n",
        "    <tr>\n",
        "      <th>8 </th>\n",
        "      <td>  5</td>\n",
        "      <td>  1</td>\n",
        "      <td>  4</td>\n",
        "      <td>  6</td>\n",
        "    </tr>\n",
        "    <tr>\n",
        "      <th>9 </th>\n",
        "      <td>  3</td>\n",
        "      <td>  6</td>\n",
        "      <td>  6</td>\n",
        "      <td>  7</td>\n",
        "    </tr>\n",
        "    <tr>\n",
        "      <th>10</th>\n",
        "      <td>  4</td>\n",
        "      <td>  3</td>\n",
        "      <td>  1</td>\n",
        "      <td>  8</td>\n",
        "    </tr>\n",
        "    <tr>\n",
        "      <th>11</th>\n",
        "      <td>  4</td>\n",
        "      <td>  3</td>\n",
        "      <td> 11</td>\n",
        "      <td>  4</td>\n",
        "    </tr>\n",
        "    <tr>\n",
        "      <th>12</th>\n",
        "      <td> 11</td>\n",
        "      <td> 11</td>\n",
        "      <td>  6</td>\n",
        "      <td>  9</td>\n",
        "    </tr>\n",
        "    <tr>\n",
        "      <th>13</th>\n",
        "      <td>  4</td>\n",
        "      <td>  4</td>\n",
        "      <td>  7</td>\n",
        "      <td>  1</td>\n",
        "    </tr>\n",
        "    <tr>\n",
        "      <th>14</th>\n",
        "      <td>  9</td>\n",
        "      <td>  7</td>\n",
        "      <td> 10</td>\n",
        "      <td> 12</td>\n",
        "    </tr>\n",
        "    <tr>\n",
        "      <th>15</th>\n",
        "      <td> 10</td>\n",
        "      <td>  7</td>\n",
        "      <td> 11</td>\n",
        "      <td>  7</td>\n",
        "    </tr>\n",
        "    <tr>\n",
        "      <th>16</th>\n",
        "      <td>  9</td>\n",
        "      <td>  8</td>\n",
        "      <td> 10</td>\n",
        "      <td> 11</td>\n",
        "    </tr>\n",
        "    <tr>\n",
        "      <th>17</th>\n",
        "      <td>  7</td>\n",
        "      <td> 11</td>\n",
        "      <td>  4</td>\n",
        "      <td>  8</td>\n",
        "    </tr>\n",
        "    <tr>\n",
        "      <th>18</th>\n",
        "      <td>  6</td>\n",
        "      <td>  5</td>\n",
        "      <td>  7</td>\n",
        "      <td>  5</td>\n",
        "    </tr>\n",
        "    <tr>\n",
        "      <th>19</th>\n",
        "      <td>  5</td>\n",
        "      <td>  3</td>\n",
        "      <td>  9</td>\n",
        "      <td>  6</td>\n",
        "    </tr>\n",
        "    <tr>\n",
        "      <th>20</th>\n",
        "      <td> 12</td>\n",
        "      <td> 10</td>\n",
        "      <td> 13</td>\n",
        "      <td> 10</td>\n",
        "    </tr>\n",
        "    <tr>\n",
        "      <th>21</th>\n",
        "      <td>  9</td>\n",
        "      <td>  7</td>\n",
        "      <td>  5</td>\n",
        "      <td>  5</td>\n",
        "    </tr>\n",
        "    <tr>\n",
        "      <th>22</th>\n",
        "      <td>  9</td>\n",
        "      <td> 10</td>\n",
        "      <td> 10</td>\n",
        "      <td>  9</td>\n",
        "    </tr>\n",
        "    <tr>\n",
        "      <th>23</th>\n",
        "      <td>  9</td>\n",
        "      <td> 11</td>\n",
        "      <td>  3</td>\n",
        "      <td>  8</td>\n",
        "    </tr>\n",
        "    <tr>\n",
        "      <th>24</th>\n",
        "      <td>  7</td>\n",
        "      <td>  8</td>\n",
        "      <td>  9</td>\n",
        "      <td> 10</td>\n",
        "    </tr>\n",
        "    <tr>\n",
        "      <th>25</th>\n",
        "      <td>  2</td>\n",
        "      <td>  6</td>\n",
        "      <td>  4</td>\n",
        "      <td>  4</td>\n",
        "    </tr>\n",
        "  </tbody>\n",
        "</table>\n",
        "</div>"
       ],
       "output_type": "pyout",
       "prompt_number": 12,
       "text": [
        "    Visual  Aural  Read/Write  Kinesthetic\n",
        "0        3      5           4            7\n",
        "1        0     10          14            5\n",
        "2        9      9           3            3\n",
        "3        8      7           8            5\n",
        "4        8      1           8            5\n",
        "5       13     10           8           11\n",
        "6       10      4           5           10\n",
        "7       15      9           6           11\n",
        "8        5      1           4            6\n",
        "9        3      6           6            7\n",
        "10       4      3           1            8\n",
        "11       4      3          11            4\n",
        "12      11     11           6            9\n",
        "13       4      4           7            1\n",
        "14       9      7          10           12\n",
        "15      10      7          11            7\n",
        "16       9      8          10           11\n",
        "17       7     11           4            8\n",
        "18       6      5           7            5\n",
        "19       5      3           9            6\n",
        "20      12     10          13           10\n",
        "21       9      7           5            5\n",
        "22       9     10          10            9\n",
        "23       9     11           3            8\n",
        "24       7      8           9           10\n",
        "25       2      6           4            4"
       ]
      }
     ],
     "prompt_number": 12
    },
    {
     "cell_type": "code",
     "collapsed": false,
     "input": [
      "df.sum()"
     ],
     "language": "python",
     "metadata": {},
     "outputs": [
      {
       "output_type": "pyout",
       "prompt_number": 13,
       "text": [
        "Visual         191\n",
        "Aural          176\n",
        "Read/Write     186\n",
        "Kinesthetic    187"
       ]
      }
     ],
     "prompt_number": 13
    },
    {
     "cell_type": "code",
     "collapsed": false,
     "input": [
      "df.mean()"
     ],
     "language": "python",
     "metadata": {},
     "outputs": [
      {
       "output_type": "pyout",
       "prompt_number": 14,
       "text": [
        "Visual         7.346154\n",
        "Aural          6.769231\n",
        "Read/Write     7.153846\n",
        "Kinesthetic    7.192308"
       ]
      }
     ],
     "prompt_number": 14
    },
    {
     "cell_type": "code",
     "collapsed": false,
     "input": [
      "df.median()"
     ],
     "language": "python",
     "metadata": {},
     "outputs": [
      {
       "output_type": "pyout",
       "prompt_number": 15,
       "text": [
        "Visual         8\n",
        "Aural          7\n",
        "Read/Write     7\n",
        "Kinesthetic    7"
       ]
      }
     ],
     "prompt_number": 15
    },
    {
     "cell_type": "markdown",
     "metadata": {},
     "source": [
      "## Career Goals Responses\n",
      "\n",
      "\n",
      "\n",
      "extract the raw string of each student's response."
     ]
    },
    {
     "cell_type": "code",
     "collapsed": false,
     "input": [
      "career_response = []\n",
      "\n",
      "for row in filtered_data:\n",
      "\n",
      "    print row[fieldnames[2]]\n",
      "\n",
      "    career_response.append(row[fieldnames[2]])\n",
      "\n",
      "\n",
      "\n",
      "len(career_response)"
     ],
     "language": "python",
     "metadata": {},
     "outputs": [
      {
       "output_type": "stream",
       "stream": "stdout",
       "text": [
        "lkajsdf\n",
        "Data Scientist\n",
        "Graduate School\n",
        "To be autonomous and start my own company\n",
        "To become an entrepreneur.\n",
        "Entrepreneur\n",
        "Work as an epidemiologist or biostatistician\n",
        "Editor\n",
        "Actuary\n",
        "Actuary / MFE Grad School\n",
        "doctor\n",
        "Data Science, software engineering\n",
        "being able to actually help solving problems with what i have learned.\n",
        "Researcher\n",
        "Consulting, Data Analytics\n",
        "work internationally\n",
        "statistician\n",
        "To use my skills in a profession I'm interested in.\n",
        "actuarial science\n",
        "CEO of my own company\n",
        "Work in an industry I find challenging, engaging, and interesting\n",
        "to be a well-rounded data scientist who thinks statistically, implements machine learning algorithms to solve problems, and hones my coding skills to do awesome viz stuff with D3\n",
        "data scientist, great computer scientist, quant, eventually return home to Vietnam and help my mom run her start-up, etc.\n",
        "Market Research, Marketing\n",
        "to make a positive impact on the world\n",
        "Software Engineering\n",
        "Finance at a Technology company\n",
        "Data Engineer\n",
        "Researcher in Psychology\n",
        "Big Data success!\n",
        "Work as a software engineer for a couple years and then start my own technology company\n",
        "not sure yet.\n",
        "staying in an industry where I am challenged and learning\n",
        "have fun with job\n",
        "Actuary\n",
        "data science\n",
        "Help people using analytical skills\n",
        "Data Analyst\n",
        "Actuary\n",
        "Math teacher\n",
        "starting up my own company and or career in consulting / data analysis \n",
        "work at a job that i'm happy in\n",
        "dunno. data science in finence sector? \n",
        "statistician\n",
        "Software Engineering or Actuarial Sciences\n",
        "Get a job.\n",
        "Be an actuary!!\n",
        "Actuary \n"
       ]
      },
      {
       "output_type": "pyout",
       "prompt_number": 16,
       "text": [
        "48"
       ]
      }
     ],
     "prompt_number": 16
    },
    {
     "cell_type": "markdown",
     "metadata": {},
     "source": [
      "### Cleaning the Raw Career Goals Responses\n",
      "\n",
      "\n",
      "\n",
      "+ Filter each response string to keep only words with 5 or more characters.  \n",
      "\n",
      "+ Remove all characters that aren't letters or spaces.\n",
      "\n",
      "+ Convert all characters to lowercase"
     ]
    },
    {
     "cell_type": "code",
     "collapsed": false,
     "input": [
      "import string\n",
      "\n",
      "\n",
      "\n",
      "filtered_career_response = []\n",
      "\n",
      "for i in range(0, len(career_response)):\n",
      "\n",
      "    res = string.join([word for word in career_response[i].lower().split() if len(word) >= 5])\n",
      "\n",
      "    filtered_career_response.append(res)\n",
      "\n",
      "\n",
      "\n",
      "p = re.compile(\"[^a-zA-Z ]\")\n",
      "\n",
      "for i in range(len(filtered_career_response)):\n",
      "\n",
      "    filtered_career_response[i] = p.sub(\"\", filtered_career_response[i])\n",
      "\n",
      "    print filtered_career_response[i]"
     ],
     "language": "python",
     "metadata": {},
     "outputs": [
      {
       "output_type": "stream",
       "stream": "stdout",
       "text": [
        "lkajsdf\n",
        "scientist\n",
        "graduate school\n",
        "autonomous start company\n",
        "become entrepreneur\n",
        "entrepreneur\n",
        "epidemiologist biostatistician\n",
        "editor\n",
        "actuary\n",
        "actuary school\n",
        "doctor\n",
        "science software engineering\n",
        "being actually solving problems learned\n",
        "researcher\n",
        "consulting analytics\n",
        "internationally\n",
        "statistician\n",
        "skills profession interested\n",
        "actuarial science\n",
        "company\n",
        "industry challenging engaging interesting\n",
        "wellrounded scientist thinks statistically implements machine learning algorithms solve problems hones coding skills awesome stuff\n",
        "scientist great computer scientist quant eventually return vietnam startup\n",
        "market research marketing\n",
        "positive impact world\n",
        "software engineering\n",
        "finance technology company\n",
        "engineer\n",
        "researcher psychology\n",
        "success\n",
        "software engineer couple years start technology company\n",
        "\n",
        "staying industry where challenged learning\n",
        "\n",
        "actuary\n",
        "science\n",
        "people using analytical skills\n",
        "analyst\n",
        "actuary\n",
        "teacher\n",
        "starting company career consulting analysis\n",
        "happy\n",
        "dunno science finence sector\n",
        "statistician\n",
        "software engineering actuarial sciences\n",
        "\n",
        "actuary\n",
        "actuary\n"
       ]
      }
     ],
     "prompt_number": 17
    },
    {
     "cell_type": "markdown",
     "metadata": {},
     "source": [
      "Create overall (classwide) counts of each word"
     ]
    },
    {
     "cell_type": "code",
     "collapsed": false,
     "input": [
      "from pandas import Series\n",
      "\n",
      "\n",
      "\n",
      "words = string.join(filtered_career_response).split()\n",
      "\n",
      "obj = Series(words)\n",
      "\n",
      "obj.value_counts()"
     ],
     "language": "python",
     "metadata": {},
     "outputs": [
      {
       "output_type": "pyout",
       "prompt_number": 18,
       "text": [
        "actuary            6\n",
        "company            5\n",
        "science            4\n",
        "software           4\n",
        "scientist          4\n",
        "skills             3\n",
        "engineering        3\n",
        "school             2\n",
        "industry           2\n",
        "statistician       2\n",
        "problems           2\n",
        "start              2\n",
        "researcher         2\n",
        "engineer           2\n",
        "technology         2\n",
        "learning           2\n",
        "entrepreneur       2\n",
        "actuarial          2\n",
        "consulting         2\n",
        "dunno              1\n",
        "startup            1\n",
        "where              1\n",
        "autonomous         1\n",
        "become             1\n",
        "analytical         1\n",
        "solve              1\n",
        "stuff              1\n",
        "market             1\n",
        "wellrounded        1\n",
        "analysis           1\n",
        "awesome            1\n",
        "success            1\n",
        "couple             1\n",
        "great              1\n",
        "implements         1\n",
        "using              1\n",
        "analyst            1\n",
        "research           1\n",
        "vietnam            1\n",
        "world              1\n",
        "biostatistician    1\n",
        "teacher            1\n",
        "people             1\n",
        "marketing          1\n",
        "finence            1\n",
        "statistically      1\n",
        "return             1\n",
        "staying            1\n",
        "eventually         1\n",
        "happy              1\n",
        "graduate           1\n",
        "learned            1\n",
        "interesting        1\n",
        "editor             1\n",
        "quant              1\n",
        "interested         1\n",
        "algorithms         1\n",
        "machine            1\n",
        "actually           1\n",
        "sciences           1\n",
        "lkajsdf            1\n",
        "analytics          1\n",
        "solving            1\n",
        "finance            1\n",
        "doctor             1\n",
        "internationally    1\n",
        "psychology         1\n",
        "career             1\n",
        "impact             1\n",
        "computer           1\n",
        "thinks             1\n",
        "starting           1\n",
        "hones              1\n",
        "challenged         1\n",
        "engaging           1\n",
        "years              1\n",
        "coding             1\n",
        "profession         1\n",
        "being              1\n",
        "epidemiologist     1\n",
        "challenging        1\n",
        "positive           1\n",
        "sector             1\n",
        "Length: 83"
       ]
      }
     ],
     "prompt_number": 18
    },
    {
     "cell_type": "heading",
     "level": 3,
     "metadata": {},
     "source": [
      "Filtering out non-responses in VARK from Career Goals column."
     ]
    },
    {
     "cell_type": "code",
     "collapsed": false,
     "input": [
      "import re\n",
      "\n",
      "careergoals = [0]*(len(filtered_data))\n",
      "for k in range(0, len(filtered_data)): \n",
      "    tmp = filtered_data[k]['What is/are your career goal(s)?'].split()\n",
      "    careergoals[k] = filter((lambda x: re.search(r'^\\w{5,}\\W$|^\\w{5,}$',x)),tmp)\n",
      "    \n",
      "keeporderedcareergoals = []\n",
      "\n",
      "for i in range(0,len(learningstyle)):\n",
      "    if learning_responses[i]!= None:\n",
      "        keeporderedcareergoals.append(careergoals[i])\n",
      "\n",
      "len(keeporderedcareergoals)\n",
      "keeporderedcareergoals"
     ],
     "language": "python",
     "metadata": {},
     "outputs": []
    },
    {
     "cell_type": "code",
     "collapsed": true,
     "input": [
      "from pytagcloud import create_tag_image, create_html_data, make_tags, LAYOUT_HORIZONTAL, LAYOUTS, LAYOUT_MIX, LAYOUT_VERTICAL, LAYOUT_MOST_HORIZONTAL, LAYOUT_MOST_VERTICAL\n",
      "\n",
      "from pytagcloud.colors import COLOR_SCHEMES\n",
      "\n",
      "from pytagcloud.lang.counter import get_tag_counts\n",
      "\n",
      "\n",
      "\n",
      "tags = make_tags(get_tag_counts(string.join(words)), minsize=1, maxsize=120)\n",
      "\n",
      "cloud_css = create_html_data(tags)\n",
      "\n",
      "create_tag_image(tags, 'cloud_large.png', size=(900, 600), fontname='Lobster')"
     ],
     "language": "python",
     "metadata": {},
     "outputs": [],
     "prompt_number": 19
    },
    {
     "cell_type": "code",
     "collapsed": true,
     "input": [
      "tags2 = make_tags(get_tag_counts(string.join(words)),maxsize=30)\n",
      "\n",
      "create_tag_image(tags2, 'test_cloud.png', background=(0, 0, 0, 255), layout=LAYOUT_MIX, fontname='Lobster', rectangular=True)"
     ],
     "language": "python",
     "metadata": {},
     "outputs": [],
     "prompt_number": 20
    },
    {
     "cell_type": "code",
     "collapsed": false,
     "input": [],
     "language": "python",
     "metadata": {},
     "outputs": [],
     "prompt_number": 20
    },
    {
     "cell_type": "markdown",
     "metadata": {},
     "source": [
      "![alt text](https://raw.github.com/reenashah/Group-11/master/cloud_large.png \"Career Goals Word-Cloud\")\n",
      "\n",
      "\n",
      "\n",
      "![alt text](https://raw.github.com/reenashah/Group-11/master/test_cloud.png \"Career Goals Word-Cloud\")"
     ]
    }
   ],
   "metadata": {}
  }
 ]
}