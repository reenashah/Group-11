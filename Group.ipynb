{
 "metadata": {
  "name": "Group"
 },
 "nbformat": 3,
 "nbformat_minor": 0,
 "worksheets": [
  {
   "cells": [
    {
     "cell_type": "markdown",
     "metadata": {},
     "source": [
      "Import basic Python libraries for use in your program: [os.path](http://docs.python.org/2/library/os.path.html) and [ConfigParser](http://docs.python.org/2/library/configparser.html)"
     ]
    },
    {
     "cell_type": "code",
     "collapsed": false,
     "input": [
      "import os.path\n",
      "import ConfigParser"
     ],
     "language": "python",
     "metadata": {},
     "outputs": [],
     "prompt_number": 1
    },
    {
     "cell_type": "markdown",
     "metadata": {},
     "source": [
      "An example of reading data from a Google Spreadsheet using the gspread library: http://stackoverflow.com/a/18296318/462302\n",
      "\n",
      "First you'll need to install the gspread library on your virtual machine using: `sudo pip install gspread`"
     ]
    },
    {
     "cell_type": "code",
     "collapsed": false,
     "input": [
      "import gspread"
     ],
     "language": "python",
     "metadata": {},
     "outputs": [],
     "prompt_number": 2
    },
    {
     "cell_type": "markdown",
     "metadata": {},
     "source": [
      "Define `take(n, iterable)` which is a convenience function to limit the amount of output that you print. Useful when you have lots of data that will clutter up your screen!"
     ]
    },
    {
     "cell_type": "code",
     "collapsed": false,
     "input": [
      "from itertools import islice\n",
      "def take(n, iterable):\n",
      "    \"Return first n items of the iterable as a list\"\n",
      "    return list(islice(iterable, n))"
     ],
     "language": "python",
     "metadata": {},
     "outputs": [],
     "prompt_number": 3
    },
    {
     "cell_type": "markdown",
     "metadata": {},
     "source": [
      "Read the username and password from the `[google]` section of the `stat157.cfg` config file from your virtual machine home directory."
     ]
    },
    {
     "cell_type": "code",
     "collapsed": false,
     "input": [
      "home = os.path.expanduser(\"~\")\n",
      "configfile = os.path.join(home, 'stat157.cfg')\n",
      "config = ConfigParser.SafeConfigParser()\n",
      "config.read(configfile)\n",
      "username = config.get('google', 'username')\n",
      "password = config.get('google', 'password')\n",
      "print username"
     ],
     "language": "python",
     "metadata": {},
     "outputs": [
      {
       "output_type": "stream",
       "stream": "stdout",
       "text": [
        "kimberly_le@berkeley.edu\n"
       ]
      }
     ],
     "prompt_number": 4
    },
    {
     "cell_type": "markdown",
     "metadata": {},
     "source": [
      "Read the docid of the Google Spreadsheet from the config file."
     ]
    },
    {
     "cell_type": "code",
     "collapsed": false,
     "input": [
      "docid = config.get('questionnaire', 'docid')\n",
      "client = gspread.login(username, password)\n",
      "spreadsheet = client.open_by_key(docid)\n",
      "worksheet = spreadsheet.get_worksheet(0)\n",
      "print docid"
     ],
     "language": "python",
     "metadata": {},
     "outputs": [
      {
       "output_type": "stream",
       "stream": "stdout",
       "text": [
        "0Aj1QXjQixf-SdENDS1FzR1FGNE1kLUk0WGR1SW5peVE\n"
       ]
      }
     ],
     "prompt_number": 5
    },
    {
     "cell_type": "markdown",
     "metadata": {},
     "source": [
      "Add field names to this list to include the column from the Google Spreadsheet in the filtered data output. You should choose one other column in addition to the learning style column. Refer to README.md from the homework assignment."
     ]
    },
    {
     "cell_type": "code",
     "collapsed": false,
     "input": [
      "fieldnames = ['Timestamp','What is your learning style?']\n",
      "print fieldnames"
     ],
     "language": "python",
     "metadata": {},
     "outputs": [
      {
       "output_type": "stream",
       "stream": "stdout",
       "text": [
        "['Timestamp', 'What is your learning style?']\n"
       ]
      }
     ],
     "prompt_number": 6
    },
    {
     "cell_type": "markdown",
     "metadata": {},
     "source": [
      "Read in ALL rows of data from the Google Spreadsheet, but filter out columns that are not listed in `fieldnames`."
     ]
    },
    {
     "cell_type": "code",
     "collapsed": false,
     "input": [
      "filtered_data = []\n",
      "for row in worksheet.get_all_records():\n",
      "    filtered_data.append({k:v for k,v in row.iteritems() if k in fieldnames})\n",
      "print \"Number of rows: {}\".format(len(filtered_data))"
     ],
     "language": "python",
     "metadata": {},
     "outputs": [
      {
       "output_type": "stream",
       "stream": "stdout",
       "text": [
        "Number of rows: 48\n"
       ]
      }
     ],
     "prompt_number": 7
    },
    {
     "cell_type": "markdown",
     "metadata": {},
     "source": [
      "Use the convenience function `take()` to print out only 3 lines from the filtered_data."
     ]
    },
    {
     "cell_type": "code",
     "collapsed": true,
     "input": [
      "for row in take(3, filtered_data):\n",
      "    print row"
     ],
     "language": "python",
     "metadata": {},
     "outputs": [
      {
       "output_type": "stream",
       "stream": "stdout",
       "text": [
        "{'Timestamp': '9/4/2013 20:48:39', 'What is your learning style?': ''}\n",
        "{'Timestamp': '9/4/2013 21:48:39', 'What is your learning style?': 'Your scores were:\\n\\nVisual: 3\\nAural: 5\\nRead/Write: 4\\nKinesthetic: 7\\n\\nYou have a mild Kinesthetic learning preference.'}\n",
        "{'Timestamp': '9/4/2013 21:48:45', 'What is your learning style?': 'I have a multimodal (VAK) learning preference.'}\n"
       ]
      }
     ],
     "prompt_number": 8
    },
    {
     "cell_type": "code",
     "collapsed": true,
     "input": [
      "#for k in range(0,  48): \n",
      "#    tmp = filtered_data[k]['What is your learning style?'].split()\n",
      "#    temp = \"the \" + str(k+1) + \"th user has such input\"\n",
      "#    print(temp)\n",
      "#    if(\"Visual:\" in tmp):\n",
      "#        print(tmp[filtered_data[k]['What is your learning style?'].split().index(\"Visual:\")+1])\n",
      "#    if(\"Aural:\" in tmp):\n",
      "#        print(tmp[filtered_data[k]['What is your learning style?'].split().index(\"Aural:\")+1])\n",
      "#    if(\"Kinesthetic:\" in tmp):\n",
      "#        print(tmp[filtered_data[k]['What is your learning style?'].split().index(\"Kinesthetic:\")+1])\n",
      "#    if(\"Read/Write:\" in tmp):\n",
      "#        print(tmp[filtered_data[k]['What is your learning style?'].split().index(\"Read/Write:\")+1])"
     ],
     "language": "python",
     "metadata": {},
     "outputs": [],
     "prompt_number": 9
    },
    {
     "cell_type": "code",
     "collapsed": false,
     "input": [
      "# 'learningstyle' gives you a list of the the learning style results. \n",
      "# Each item is in the form of a smaller list of length 4 with the different learning values.\n",
      "\n",
      "learningstyle = [0]*(len(filtered_data))\n",
      "\n",
      "for k in range(0, len(filtered_data)): \n",
      "    tmp = filtered_data[k]['What is your learning style?'].split()\n",
      "    learningstyle[k] = [0,0,0,0]\n",
      "    if(\"Visual:\" in tmp):\n",
      "        learningstyle[k][0] = int(tmp[filtered_data[k]['What is your learning style?'].split().index(\"Visual:\")+1])\n",
      "    if(\"Aural:\" in tmp):\n",
      "        learningstyle[k][1] = int(tmp[filtered_data[k]['What is your learning style?'].split().index(\"Aural:\")+1])\n",
      "    if(\"Read/Write:\" in tmp):\n",
      "        learningstyle[k][2] = int(tmp[filtered_data[k]['What is your learning style?'].split().index(\"Read/Write:\")+1])\n",
      "    if(\"Kinesthetic:\" in tmp):\n",
      "        learningstyle[k][3] = int(tmp[filtered_data[k]['What is your learning style?'].split().index(\"Kinesthetic:\")+1])\n",
      "    if(learningstyle[k] == [0,0,0,0]):\n",
      "        learningstyle[k] = None"
     ],
     "language": "python",
     "metadata": {},
     "outputs": [],
     "prompt_number": 10
    },
    {
     "cell_type": "code",
     "collapsed": false,
     "input": [
      "# Gives you the list of values for EACH the learning style ('Visual', 'Aural', 'Readwrite', 'Kinesthetic')\n",
      "Visual = [0]*len(filtered_data)\n",
      "Aural = [0]*len(filtered_data)\n",
      "Readwrite = [0]*len(filtered_data)\n",
      "Kinesthetic = [0]*len(filtered_data)\n",
      "for i in range(0,len(filtered_data)):\n",
      "    if(learningstyle[i] != None):\n",
      "        Visual[i] = learningstyle[i][0]\n",
      "        Aural[i] = learningstyle[i][1]\n",
      "        Readwrite[i] = learningstyle[i][2]\n",
      "        Kinesthetic[i] = learningstyle[i][3]\n",
      "    else:\n",
      "        Visual[i] = None\n",
      "        Aural[i] = None\n",
      "        Readwrite[i] = None\n",
      "        Kinesthetic[i] = None\n"
     ],
     "language": "python",
     "metadata": {},
     "outputs": [],
     "prompt_number": 11
    },
    {
     "cell_type": "raw",
     "metadata": {},
     "source": [
      "If you want to filter out the 'None' responses, unhashtag the following and run the code:"
     ]
    },
    {
     "cell_type": "code",
     "collapsed": false,
     "input": [
      "# Visual =  filter(None,Visual)\n",
      "# Aural =  filter(None,Aural)\n",
      "# Readwrite =  filter(None,Readwrite)\n",
      "# Kinesthetic =  filter(None,Kinesthetic)"
     ],
     "language": "python",
     "metadata": {},
     "outputs": [
      {
       "output_type": "pyout",
       "prompt_number": 17,
       "text": [
        "[None,\n",
        " [3, 5, 4, 7],\n",
        " None,\n",
        " [0, 10, 14, 5],\n",
        " [9, 9, 3, 3],\n",
        " None,\n",
        " [8, 7, 8, 5],\n",
        " [8, 1, 8, 5],\n",
        " None,\n",
        " [13, 10, 8, 11],\n",
        " [10, 4, 5, 10],\n",
        " None,\n",
        " [15, 9, 6, 11],\n",
        " None,\n",
        " [5, 1, 4, 6],\n",
        " [3, 6, 6, 7],\n",
        " None,\n",
        " None,\n",
        " [4, 3, 1, 8],\n",
        " [4, 3, 11, 4],\n",
        " [11, 11, 6, 9],\n",
        " [4, 4, 7, 1],\n",
        " [9, 7, 10, 12],\n",
        " [10, 7, 11, 7],\n",
        " None,\n",
        " [9, 8, 10, 11],\n",
        " [7, 11, 4, 8],\n",
        " None,\n",
        " None,\n",
        " [6, 4, 7, 5],\n",
        " [6, 5, 7, 5],\n",
        " [5, 3, 9, 6],\n",
        " None,\n",
        " None,\n",
        " [12, 10, 13, 10],\n",
        " None,\n",
        " None,\n",
        " [2, 3, 6, 5],\n",
        " [1, 4, 4, 7],\n",
        " None,\n",
        " [9, 7, 5, 5],\n",
        " None,\n",
        " None,\n",
        " None,\n",
        " [9, 10, 10, 9],\n",
        " [9, 11, 3, 8],\n",
        " [7, 8, 9, 10],\n",
        " [2, 6, 4, 4]]"
       ]
      }
     ],
     "prompt_number": 17
    },
    {
     "cell_type": "raw",
     "metadata": {},
     "source": [
      "The following code outputs the results for the Career Goals in a list ('careergoals'). All words that are <5 characters have been filtered out. "
     ]
    },
    {
     "cell_type": "code",
     "collapsed": false,
     "input": [
      "fieldnames2 = ['What is/are your career goal(s)?']\n",
      "print fieldnames2\n",
      "\n",
      "filtered_career_data = []\n",
      "for row in worksheet.get_all_records():\n",
      "    filtered_career_data.append({k:v for k,v in row.iteritems() if k in fieldnames2})\n",
      "print \"Number of rows: {}\".format(len(filtered_career_data))"
     ],
     "language": "python",
     "metadata": {},
     "outputs": [
      {
       "output_type": "stream",
       "stream": "stdout",
       "text": [
        "['What is/are your career goal(s)?']\n",
        "Number of rows: 48"
       ]
      },
      {
       "output_type": "stream",
       "stream": "stdout",
       "text": [
        "\n"
       ]
      }
     ],
     "prompt_number": 13
    },
    {
     "cell_type": "code",
     "collapsed": false,
     "input": [
      "careergoals = [0]*(len(filtered_career_data))\n",
      "\n",
      "import re\n",
      "for k in range(0, len(filtered_career_data)): \n",
      "    tmp = filtered_career_data[k]['What is/are your career goal(s)?'].split()\n",
      "    careergoals[k] = filter((lambda x: re.search(r'^\\w{5,}\\W$|^\\w{5,}$',x)),tmp)"
     ],
     "language": "python",
     "metadata": {},
     "outputs": [],
     "prompt_number": 14
    },
    {
     "cell_type": "code",
     "collapsed": false,
     "input": [
      "keeporderedcareergoals = []\n",
      "\n",
      "for i in range(0,len(learningstyle)-1):\n",
      "    if learningstyle[i]!= None:\n",
      "        keeporderedcareergoals.append(careergoals[i])\n",
      "\n",
      "# keeporderedcareergoals"
     ],
     "language": "python",
     "metadata": {},
     "outputs": [],
     "prompt_number": 19
    },
    {
     "cell_type": "code",
     "collapsed": false,
     "input": [
      "keeporderedcareergoals"
     ],
     "language": "python",
     "metadata": {},
     "outputs": [
      {
       "output_type": "pyout",
       "prompt_number": 20,
       "text": [
        "[['Scientist'],\n",
        " ['autonomous', 'start', 'company'],\n",
        " ['become', 'entrepreneur.'],\n",
        " ['epidemiologist', 'biostatistician'],\n",
        " ['Editor'],\n",
        " ['Actuary', 'School'],\n",
        " ['doctor'],\n",
        " ['being', 'actually', 'solving', 'problems', 'learned.'],\n",
        " ['Consulting,', 'Analytics'],\n",
        " ['internationally'],\n",
        " ['actuarial', 'science'],\n",
        " ['company'],\n",
        " ['industry', 'challenging,', 'engaging,', 'interesting'],\n",
        " ['scientist',\n",
        "  'thinks',\n",
        "  'statistically,',\n",
        "  'implements',\n",
        "  'machine',\n",
        "  'learning',\n",
        "  'algorithms',\n",
        "  'solve',\n",
        "  'problems,',\n",
        "  'hones',\n",
        "  'coding',\n",
        "  'skills',\n",
        "  'awesome',\n",
        "  'stuff'],\n",
        " ['scientist,',\n",
        "  'great',\n",
        "  'computer',\n",
        "  'scientist,',\n",
        "  'quant,',\n",
        "  'eventually',\n",
        "  'return',\n",
        "  'Vietnam'],\n",
        " ['Market', 'Research,', 'Marketing'],\n",
        " ['Software', 'Engineering'],\n",
        " ['Finance', 'Technology', 'company'],\n",
        " ['success!'],\n",
        " ['software', 'engineer', 'couple', 'years', 'start', 'technology', 'company'],\n",
        " [],\n",
        " ['Actuary'],\n",
        " ['Analyst'],\n",
        " ['Actuary'],\n",
        " ['starting', 'company', 'career', 'consulting', 'analysis'],\n",
        " ['Software', 'Engineering', 'Actuarial', 'Sciences'],\n",
        " [],\n",
        " []]"
       ]
      }
     ],
     "prompt_number": 20
    },
    {
     "cell_type": "code",
     "collapsed": false,
     "input": [],
     "language": "python",
     "metadata": {},
     "outputs": [],
     "prompt_number": 15
    }
   ],
   "metadata": {}
  }
 ]
}