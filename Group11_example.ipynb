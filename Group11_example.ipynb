{
 "metadata": {
  "name": "example"
 }, 
 "nbformat": 2, 
 "worksheets": [
  {
   "cells": [
    {
     "cell_type": "markdown", 
     "source": [
      "Import basic Python libraries for use in your program: [os.path](http://docs.python.org/2/library/os.path.html) and [ConfigParser](http://docs.python.org/2/library/configparser.html)"
     ]
    }, 
    {
     "cell_type": "code", 
     "collapsed": true, 
     "input": [
      "import os.path", 
      "", 
      "import ConfigParser"
     ], 
     "language": "python", 
     "outputs": [], 
     "prompt_number": 5
    }, 
    {
     "cell_type": "markdown", 
     "source": [
      "An example of reading data from a Google Spreadsheet using the gspread library: http://stackoverflow.com/a/18296318/462302", 
      "", 
      "First you'll need to install the gspread library on your virtual machine using: `sudo pip install gspread`"
     ]
    }, 
    {
     "cell_type": "code", 
     "collapsed": true, 
     "input": [
      "import gspread"
     ], 
     "language": "python", 
     "outputs": [], 
     "prompt_number": 6
    }, 
    {
     "cell_type": "markdown", 
     "source": [
      "Define `take(n, iterable)` which is a convenience function to limit the amount of output that you print. Useful when you have lots of data that will clutter up your screen!"
     ]
    }, 
    {
     "cell_type": "code", 
     "collapsed": true, 
     "input": [
      "from itertools import islice", 
      "", 
      "def take(n, iterable):", 
      "", 
      "    \"Return first n items of the iterable as a list\"", 
      "", 
      "    return list(islice(iterable, n))"
     ], 
     "language": "python", 
     "outputs": [], 
     "prompt_number": 7
    }, 
    {
     "cell_type": "markdown", 
     "source": [
      "Read the username and password from the `[google]` section of the `stat157.cfg` config file from your virtual machine home directory."
     ]
    }, 
    {
     "cell_type": "code", 
     "collapsed": false, 
     "input": [
      "home = os.path.expanduser(\"~\")", 
      "", 
      "configfile = os.path.join(home, 'stat157.cfg')", 
      "", 
      "config = ConfigParser.SafeConfigParser()", 
      "", 
      "config.read(configfile)", 
      "", 
      "username = config.get('google', 'username')", 
      "", 
      "password = config.get('google', 'password')", 
      "", 
      "print username"
     ], 
     "language": "python", 
     "outputs": [
      {
       "output_type": "stream", 
       "stream": "stdout", 
       "text": [
        "wliang88@berkeley.edu"
       ]
      }
     ], 
     "prompt_number": 8
    }, 
    {
     "cell_type": "markdown", 
     "source": [
      "Read the docid of the Google Spreadsheet from the config file."
     ]
    }, 
    {
     "cell_type": "code", 
     "collapsed": false, 
     "input": [
      "docid = config.get('questionnaire', 'docid')", 
      "", 
      "client = gspread.login(username, password)", 
      "", 
      "spreadsheet = client.open_by_key(docid)", 
      "", 
      "worksheet = spreadsheet.get_worksheet(0)", 
      "", 
      "print docid"
     ], 
     "language": "python", 
     "outputs": [
      {
       "output_type": "stream", 
       "stream": "stdout", 
       "text": [
        "0Aj1QXjQixf-SdENDS1FzR1FGNE1kLUk0WGR1SW5peVE"
       ]
      }
     ], 
     "prompt_number": 10
    }, 
    {
     "cell_type": "markdown", 
     "source": [
      "Add field names to this list to include the column from the Google Spreadsheet in the filtered data output. You should choose one other column in addition to the learning style column. Refer to README.md from the homework assignment."
     ]
    }, 
    {
     "cell_type": "code", 
     "collapsed": true, 
     "input": [
      "fieldnames = ['Timestamp','What is your learning style?']", 
      "", 
      "print fieldnames"
     ], 
     "language": "python", 
     "outputs": []
    }, 
    {
     "cell_type": "markdown", 
     "source": [
      "Read in ALL rows of data from the Google Spreadsheet, but filter out columns that are not listed in `fieldnames`."
     ]
    }, 
    {
     "cell_type": "code", 
     "collapsed": true, 
     "input": [
      "filtered_data = []", 
      "", 
      "for row in worksheet.get_all_records():", 
      "", 
      "    filtered_data.append({k:v for k,v in row.iteritems() if k in fieldnames})", 
      "", 
      "print \"Number of rows: {}\".format(len(filtered_data))"
     ], 
     "language": "python", 
     "outputs": []
    }, 
    {
     "cell_type": "markdown", 
     "source": [
      "Use the convenience function `take()` to print out only 3 lines from the filtered_data."
     ]
    }, 
    {
     "cell_type": "code", 
     "collapsed": true, 
     "input": [
      "for row in take(3, filtered_data):", 
      "", 
      "    print row"
     ], 
     "language": "python", 
     "outputs": []
    }, 
    {
     "cell_type": "markdown", 
     "source": [
      "", 
      "Here is some Markdown code", 
      "# Here is a title", 
      "## Here is a subtitle", 
      "", 
      "* Lists", 
      "* Are", 
      "* Fun"
     ]
    }, 
    {
     "cell_type": "code", 
     "collapsed": false, 
     "input": [
      "for k in range(1, 10): print k"
     ], 
     "language": "python", 
     "outputs": [
      {
       "output_type": "stream", 
       "stream": "stdout", 
       "text": [
        "1", 
        "2", 
        "3", 
        "4", 
        "5", 
        "6", 
        "7", 
        "8", 
        "9"
       ]
      }
     ], 
     "prompt_number": 1
    }, 
    {
     "cell_type": "code", 
     "collapsed": false, 
     "input": [
      "print filtered_data"
     ], 
     "language": "python", 
     "outputs": [
      {
       "output_type": "stream", 
       "stream": "stdout", 
       "text": [
        "[{'Timestamp': '9/4/2013 20:48:39', 'What is your learning style?': ''}, {'Timestamp': '9/4/2013 21:48:39', 'What is your learning style?': 'Your scores were:\\n\\nVisual: 3\\nAural: 5\\nRead/Write: 4\\nKinesthetic: 7\\n\\nYou have a mild Kinesthetic learning preference.'}, {'Timestamp': '9/4/2013 21:48:45', 'What is your learning style?': 'I have a multimodal (VAK) learning preference.'}, {'Timestamp': '9/4/2013 21:54:32', 'What is your learning style?': 'Your scores were:\\n\\nVisual: 0\\nAural: 10\\nRead/Write: 14\\nKinesthetic: 5\\n\\nYou have a mild Read/Write learning preference.'}, {'Timestamp': '9/4/2013 21:55:47', 'What is your learning style?': 'Your scores were:\\nVisual: 9\\nAural: 9\\nRead/Write: 3\\nKinesthetic: 3\\nYou have a multimodal (VA) learning preference.'}, {'Timestamp': '9/4/2013 21:58:02', 'What is your learning style?': 'kinematic'}, {'Timestamp': '9/4/2013 21:59:34', 'What is your learning style?': 'Your scores were:\\n\\nVisual: 8\\nAural: 7\\nRead/Write: 8\\nKinesthetic: 5'}, {'Timestamp': '9/4/2013 22:09:21', 'What is your learning style?': 'Your scores were:\\nVisual: 8\\nAural: 1\\nRead/Write: 8\\nKinesthetic: 5\\n\\nYou have a multimodal (VR) learning preference.\\nmultimodal\\nvisual\\nread-write'}, {'Timestamp': '9/4/2013 22:11:05', 'What is your learning style?': 'Practice the problems by myself and compare with friends.'}, {'Timestamp': '9/4/2013 22:25:31', 'What is your learning style?': 'The VARK Questionnaire Results\\n\\nYour scores were:\\n\\nVisual: 13\\nAural: 10\\nRead/Write: 8\\nKinesthetic: 11'}, {'Timestamp': '9/4/2013 22:25:39', 'What is your learning style?': 'Your scores were:\\n\\nVisual: 10\\nAural: 4\\nRead/Write: 5\\nKinesthetic: 10'}, {'Timestamp': '9/4/2013 22:31:26', 'What is your learning style?': 'Difficult team projects, where the only way to survive is by working with each other.'}, {'Timestamp': '9/4/2013 22:36:10', 'What is your learning style?': 'The VARK Questionnaire Results\\n\\nYour scores were:\\n\\nVisual: 15\\nAural: 9\\nRead/Write: 6\\nKinesthetic: 11\\n\\nYou have a multimodal (VARK) learning preference.'}, {'Timestamp': '9/4/2013 22:48:54', 'What is your learning style?': \"I personally don't like mid term and final.\\nRather, I like project. \\nAlso, weekly assignment will help me to learn a lot. \\n\"}, {'Timestamp': '9/4/2013 22:52:30', 'What is your learning style?': 'Visual: 5\\nAural: 1\\nRead/Write: 4\\nKinesthetic: 6'}, {'Timestamp': '9/4/2013 23:07:21', 'What is your learning style?': 'Your scores were:\\n\\nVisual: 3\\nAural: 6\\nRead/Write: 6\\nKinesthetic: 7\\n\\nYou have a multimodal (ARK) learning preference.'}, {'Timestamp': '9/4/2013 23:12:28', 'What is your learning style?': ''}, {'Timestamp': '9/4/2013 23:16:01', 'What is your learning style?': u'Your scores were:\\n\\u2022Visual: 10\\n\\u2022Aural: 10\\n\\u2022Read/Write: 2\\n\\u2022Kinesthetic: 13\\n\\n You have a multimodal (VAK) learning preference.\\n\\n\\n \\n '}, {'Timestamp': '9/4/2013 23:27:58', 'What is your learning style?': 'Visual: 4\\nAural: 3\\nRead/Write: 1\\nKinesthetic: 8\\n\\nYou have a strong Kinesthetic learning preference.'}, {'Timestamp': '9/4/2013 23:48:06', 'What is your learning style?': 'Your scores were:\\n\\nVisual: 4\\nAural: 3\\nRead/Write: 11\\nKinesthetic: 4'}, {'Timestamp': '9/5/2013 0:12:36', 'What is your learning style?': 'Visual: 11\\nAural: 11\\nRead/Write: 6\\nKinesthetic: 9'}, {'Timestamp': '9/5/2013 0:12:55', 'What is your learning style?': 'Visual: 4\\nAural: 4\\nRead/Write: 7\\nKinesthetic: 1'}, {'Timestamp': '9/5/2013 0:17:01', 'What is your learning style?': 'Your scores were:\\n\\nVisual: 9\\nAural: 7\\nRead/Write: 10\\nKinesthetic: 12\\n\\nYou have a multimodal (VARK) learning preference.'}, {'Timestamp': '9/5/2013 0:20:20', 'What is your learning style?': 'Your scores were:\\n\\nVisual: 10\\nAural: 7\\nRead/Write: 11\\nKinesthetic: 7'}, {'Timestamp': '9/5/2013 0:30:46', 'What is your learning style?': u\"You are helping someone who wants to go to your airport, the center of town or railway station. You would:\\nwrite down the directions.\\ndraw, or show her a map, or give her a map.\\n\\nYou have finished a competition or test and would like some feedback. You would like to have feedback:\\nusing examples from what you have done.\\nfrom somebody who talks it through with you.\\nusing a written description of your results.\\n\\nYou want to learn a new program, skill or game on a computer. You would:\\ntalk with people who know about the program.\\nuse the controls or keyboard.\\nfollow the diagrams in the book that came with it.\\n\\nI like websites that have:\\nthings I can click on, shift or try.\\ninteresting written descriptions, lists and explanations.\\ninteresting design and visual features.\\n\\nYou are planning a vacation for a group. You want some feedback from them about the plan. You would:\\ndescribe some of the highlights they will experience.\\nphone, text or email them.\\n\\nYou are not sure whether a word should be spelled `dependent' or `dependant'. You would:\\nfind it online or in a dictionary.\\n\\nYou are going to cook something as a special treat. You would:\\ncook something you know without the need for instructions.\\nlook on the Internet or in some cookbooks for ideas from the pictures.\\n\\nYou are going to choose food at a restaurant or cafe. You would:\\nchoose from the descriptions in the menu.\\nlisten to the waiter or ask friends to recommend choices.\\nchoose something that you have had there before.\\n\\nYou have a problem with your heart. You would prefer that the doctor:\\nused a plastic model to show what was wrong.\\ngave you something to read to explain what was wrong.\\ndescribed what was wrong.\\n\\nRemember a time when you learned how to do something new. Avoid choosing a physical skill, eg. riding a bike. You learned best by:\\nwatching a demonstration.\\nwritten instructions \\u2013 e.g. a manual or book.\\nlistening to somebody explaining it and asking questions.\\n\\nOther than price, what would most influence your decision to buy a new non-fiction book?\\nA friend talks about it and recommends it.\\n\\nYou are using a book, CD or website to learn how to take photos with your new digital camera. You would like to have:\\nclear written instructions with lists and bullet points about what to do.\\ndiagrams showing the camera and what each part does.\\n\\nYou are about to purchase a digital camera or mobile phone. Other than price, what would most influence your decision?\\nTrying or testing it\\nReading the details or checking its features online.\\n\\nDo you prefer a teacher or a presenter who uses:\\ndemonstrations, models or practical sessions.\\nquestion and answer, talk, group discussion, or guest speakers.\\ndiagrams, charts or graphs.\\n\\nA group of tourists wants to learn about the parks or wildlife reserves in your area. You would:\\ntalk about, or arrange a talk for them about parks or wildlife reserves.\\ntake them to a park or wildlife reserve and walk with them.\\n\\nYou have to make an important speech at a conference or special occasion. You would:\\nwrite a few key words and practice saying your speech over and over.\\nwrite out your speech and learn from reading it over several times.\\n\"}, {'Timestamp': '9/5/2013 0:34:26', 'What is your learning style?': 'Your scores were:\\n\\nVisual: 9\\nAural: 8\\nRead/Write: 10\\nKinesthetic: 11'}, {'Timestamp': '9/5/2013 0:42:52', 'What is your learning style?': 'Your scores were:\\n\\nVisual: 7\\nAural: 11\\nRead/Write: 4\\nKinesthetic: 8\\n\\nYou have a multimodal (VARK) learning preference.'}, {'Timestamp': '9/5/2013 1:15:42', 'What is your learning style?': ''}, {'Timestamp': '9/5/2013 8:47:57', 'What is your learning style?': 'Read/Write'}, {'Timestamp': '9/5/2013 9:43:34', 'What is your learning style?': '    Visual: 6\\n    Aural: 4\\n    Read/Write: 7\\n    Kinesthetic: 5\\n'}, {'Timestamp': '9/5/2013 9:58:54', 'What is your learning style?': 'Your scores were:\\n\\nVisual: 6\\nAural: 5\\nRead/Write: 7\\nKinesthetic: 5'}, {'Timestamp': '9/5/2013 10:00:28', 'What is your learning style?': 'Visual: 5\\nAural: 3\\nRead/Write: 9\\nKinesthetic: 6'}, {'Timestamp': '9/5/2013 10:07:36', 'What is your learning style?': 'Visual - 11\\nKinesthetic - 11\\nReading/Writing - 9\\nAural - 5'}, {'Timestamp': '9/5/2013 10:24:43', 'What is your learning style?': 'visual learning and hands-on learning'}, {'Timestamp': '9/5/2013 12:00:19', 'What is your learning style?': 'Your scores were:\\n\\nVisual: 12\\nAural: 10\\nRead/Write: 13\\nKinesthetic: 10\\nYou have a multimodal (VARK) learning preference.'}, {'Timestamp': '9/5/2013 13:15:01', 'What is your learning style?': ''}, {'Timestamp': '9/5/2013 15:59:45', 'What is your learning style?': ''}, {'Timestamp': '9/5/2013 16:41:20', 'What is your learning style?': 'Your scores were:\\n\\n    Visual: 2\\n    Aural: 3\\n    Read/Write: 6\\n    Kinesthetic: 5\\n\\nYou have a multimodal (RK) learning preference.'}, {'Timestamp': '9/6/2013 22:17:11', 'What is your learning style?': '    Visual: 1\\n    Aural: 4\\n    Read/Write: 4\\n    Kinesthetic: 7\\n'}, {'Timestamp': '9/10/2013 9:49:46', 'What is your learning style?': ''}, {'Timestamp': '9/26/2013 20:18:15', 'What is your learning style?': 'Your scores were:\\n\\nVisual: 9\\nAural: 7\\nRead/Write: 5\\nKinesthetic: 5\\n'}, {'Timestamp': '9/27/2013 11:40:22', 'What is your learning style?': 'I learn by doing.'}, {'Timestamp': '9/30/2013 17:54:53', 'What is your learning style?': 'hands on project and lecture'}, {'Timestamp': '9/30/2013 21:40:24', 'What is your learning style?': ''}, {'Timestamp': '9/30/2013 22:02:12', 'What is your learning style?': 'Your scores were:\\n\\nVisual: 9\\nAural: 10\\nRead/Write: 10\\nKinesthetic: 9'}, {'Timestamp': '9/30/2013 22:31:25', 'What is your learning style?': 'You have a multimodal (VAK) learning preference.\\n\\nYour scores were:\\n\\nVisual: 9\\nAural: 11\\nRead/Write: 3\\nKinesthetic: 8'}, {'Timestamp': '9/30/2013 23:46:20', 'What is your learning style?': 'You have a multimodal (VARK) learning preference.\\nYour scores were:\\nVisual: 7\\nAural: 8\\nRead/Write: 9\\nKinesthetic: 10'}, {'Timestamp': '10/1/2013 1:16:00', 'What is your learning style?': \"The VARK Questionnaire Results\\n\\nYour scores were:\\n\\nVisual: 2\\nAural: 6\\nRead/Write: 4\\nKinesthetic: 4\\nYou can find more information about your learning preferences in our downloadable book:\\n\\nHow Do I Learn Best? \\na student's guide to improved learning\\n\\nMore Information...\\n\\nYou have a mild Aural learning preference.\\n\\nUse the following helpsheets for study strategies that apply to your learning preference:\\n\\naural\"}]"
       ]
      }
     ], 
     "prompt_number": 18
    }, 
    {
     "cell_type": "code", 
     "collapsed": true, 
     "input": [], 
     "language": "python", 
     "outputs": []
    }
   ]
  }
 ]
}